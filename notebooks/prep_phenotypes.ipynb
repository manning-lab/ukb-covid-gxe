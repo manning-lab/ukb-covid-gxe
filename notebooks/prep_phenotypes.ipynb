{
 "cells": [
  {
   "cell_type": "code",
   "execution_count": 1,
   "metadata": {},
   "outputs": [
    {
     "name": "stderr",
     "output_type": "stream",
     "text": [
      "── \u001b[1mAttaching packages\u001b[22m ─────────────────────────────────────── tidyverse 1.3.0 ──\n",
      "\n",
      "\u001b[32m✔\u001b[39m \u001b[34mggplot2\u001b[39m 3.3.2     \u001b[32m✔\u001b[39m \u001b[34mpurrr  \u001b[39m 0.3.4\n",
      "\u001b[32m✔\u001b[39m \u001b[34mtibble \u001b[39m 3.0.4     \u001b[32m✔\u001b[39m \u001b[34mdplyr  \u001b[39m 1.0.2\n",
      "\u001b[32m✔\u001b[39m \u001b[34mtidyr  \u001b[39m 1.1.2     \u001b[32m✔\u001b[39m \u001b[34mstringr\u001b[39m 1.4.0\n",
      "\u001b[32m✔\u001b[39m \u001b[34mreadr  \u001b[39m 1.4.0     \u001b[32m✔\u001b[39m \u001b[34mforcats\u001b[39m 0.5.0\n",
      "\n",
      "── \u001b[1mConflicts\u001b[22m ────────────────────────────────────────── tidyverse_conflicts() ──\n",
      "\u001b[31m✖\u001b[39m \u001b[34mdplyr\u001b[39m::\u001b[32mfilter()\u001b[39m masks \u001b[34mstats\u001b[39m::filter()\n",
      "\u001b[31m✖\u001b[39m \u001b[34mdplyr\u001b[39m::\u001b[32mlag()\u001b[39m    masks \u001b[34mstats\u001b[39m::lag()\n",
      "\n",
      "Loading required package: data.table\n",
      "\n",
      "\n",
      "Attaching package: ‘data.table’\n",
      "\n",
      "\n",
      "The following objects are masked from ‘package:dplyr’:\n",
      "\n",
      "    between, first, last\n",
      "\n",
      "\n",
      "The following object is masked from ‘package:purrr’:\n",
      "\n",
      "    transpose\n",
      "\n",
      "\n",
      "Installing package into ‘/home/jupyter-user/notebooks/packages’\n",
      "(as ‘lib’ is unspecified)\n",
      "\n"
     ]
    }
   ],
   "source": [
    "library(tidyverse)\n",
    "if (!require(data.table)) install.packages(\"data.table\")\n",
    "library(data.table)\n",
    "install.packages(\"R.utils\")\n",
    "ws_namespace <- Sys.getenv('WORKSPACE_NAMESPACE')\n",
    "ws_name <- Sys.getenv('WORKSPACE_NAME')\n",
    "ws_bucket <- Sys.getenv('WORKSPACE_BUCKET')  # References workspace bucket (\"gs://fc-secure-...\")"
   ]
  },
  {
   "cell_type": "code",
   "execution_count": 2,
   "metadata": {},
   "outputs": [],
   "source": [
    "options(repr.plot.width = 10, repr.plot.height = 6)"
   ]
  },
  {
   "cell_type": "markdown",
   "metadata": {},
   "source": [
    "# Import and read in files "
   ]
  },
  {
   "cell_type": "markdown",
   "metadata": {},
   "source": [
    "## COVID-19 phenotypes"
   ]
  },
  {
   "cell_type": "code",
   "execution_count": 3,
   "metadata": {},
   "outputs": [],
   "source": [
    "# system(paste0(\"gsutil cp \", ws_bucket, \"/covid_phenotypes_20201008/covid19* .\"))\n",
    "# system(paste0(\"gsutil cp \", ws_bucket, \"/covid_phenotypes_20201008/death* .\"))\n",
    "system(paste0(\"gsutil cp \", ws_bucket, \"/phenotypes/covid19_result.20210121.txt .\"))\n",
    "covid_raw_result_df <- fread(\"covid19_result.20210121.txt\", stringsAsFactors = F)\n",
    "# covid_emis_df <- fread(\"covid19_emis_gp_clinical.20201008.txt\", stringsAsFactors = F)\n",
    "# covid_tpp_df <- fread(\"covid19_tpp_gp_clinical.20201008.txt\", stringsAsFactors = F)\n",
    "death_date_df <- fread(\"death.20201008.txt\", stringsAsFactors = F)\n",
    "death_cause_df <- fread(\"death_cause.20201008.txt\", stringsAsFactors = F)"
   ]
  },
  {
   "cell_type": "code",
   "execution_count": 4,
   "metadata": {},
   "outputs": [
    {
     "data": {
      "text/plain": [
       "\n",
       "    0     1 \n",
       "36882 68752 "
      ]
     },
     "metadata": {},
     "output_type": "display_data"
    }
   ],
   "source": [
    "# head(covid_raw_result_df)\n",
    "table(covid_raw_result_df$origin)"
   ]
  },
  {
   "cell_type": "code",
   "execution_count": 5,
   "metadata": {},
   "outputs": [],
   "source": [
    "#extracting the genetic PCS\n",
    "# gPCs5 <- gPCS %>% dplyr::select(f.eid, f.22009.0.1, f.22009.0.2, f.22009.0.3, f.22009.0.4, f.22009.0.5)"
   ]
  },
  {
   "cell_type": "code",
   "execution_count": 6,
   "metadata": {},
   "outputs": [],
   "source": [
    "#adding new label to the variables\n",
    "# gPCs5  <- gPCs5 %>%  dplyr::rename(id = f.eid, gPC1 = f.22009.0.1, gPC2 = f.22009.0.2, gPC3 = f.22009.0.3, gPC4 = f.22009.0.4, gPC5 = f.22009.0.5)"
   ]
  },
  {
   "cell_type": "code",
   "execution_count": 7,
   "metadata": {},
   "outputs": [],
   "source": [
    "# dim(gPCs5)"
   ]
  },
  {
   "cell_type": "markdown",
   "metadata": {},
   "source": [
    "### COVID test results"
   ]
  },
  {
   "cell_type": "code",
   "execution_count": 8,
   "metadata": {},
   "outputs": [
    {
     "name": "stderr",
     "output_type": "stream",
     "text": [
      "`summarise()` ungrouping output (override with `.groups` argument)\n",
      "\n"
     ]
    },
    {
     "data": {
      "text/html": [
       "<style>\n",
       ".list-inline {list-style: none; margin:0; padding: 0}\n",
       ".list-inline>li {display: inline-block}\n",
       ".list-inline>li:not(:last-child)::after {content: \"\\00b7\"; padding: 0 .5ex}\n",
       "</style>\n",
       "<ol class=list-inline><li>57217</li><li>2</li></ol>\n"
      ],
      "text/latex": [
       "\\begin{enumerate*}\n",
       "\\item 57217\n",
       "\\item 2\n",
       "\\end{enumerate*}\n"
      ],
      "text/markdown": [
       "1. 57217\n",
       "2. 2\n",
       "\n",
       "\n"
      ],
      "text/plain": [
       "[1] 57217     2"
      ]
     },
     "metadata": {},
     "output_type": "display_data"
    },
    {
     "data": {
      "text/plain": [
       "\n",
       "FALSE  TRUE \n",
       "43789 13428 "
      ]
     },
     "metadata": {},
     "output_type": "display_data"
    }
   ],
   "source": [
    "covid_test_df <- covid_raw_result_df %>%\n",
    "  select(id=eid, result) %>%\n",
    "  group_by(id) %>%\n",
    "  summarise(test_positive = any(result == 1))\n",
    "\n",
    "dim(covid_test_df)\n",
    "# head(covid_test_df)\n",
    "table(covid_test_df$test_positive)"
   ]
  },
  {
   "cell_type": "markdown",
   "metadata": {},
   "source": [
    "### COVID test results and hospitalization "
   ]
  },
  {
   "cell_type": "code",
   "execution_count": 9,
   "metadata": {
    "scrolled": true
   },
   "outputs": [
    {
     "name": "stderr",
     "output_type": "stream",
     "text": [
      "`summarise()` ungrouping output (override with `.groups` argument)\n",
      "\n"
     ]
    },
    {
     "data": {
      "text/html": [
       "<style>\n",
       ".list-inline {list-style: none; margin:0; padding: 0}\n",
       ".list-inline>li {display: inline-block}\n",
       ".list-inline>li:not(:last-child)::after {content: \"\\00b7\"; padding: 0 .5ex}\n",
       "</style>\n",
       "<ol class=list-inline><li>57217</li><li>2</li></ol>\n"
      ],
      "text/latex": [
       "\\begin{enumerate*}\n",
       "\\item 57217\n",
       "\\item 2\n",
       "\\end{enumerate*}\n"
      ],
      "text/markdown": [
       "1. 57217\n",
       "2. 2\n",
       "\n",
       "\n"
      ],
      "text/plain": [
       "[1] 57217     2"
      ]
     },
     "metadata": {},
     "output_type": "display_data"
    },
    {
     "data": {
      "text/plain": [
       "\n",
       "    0     1 \n",
       "53718  3499 "
      ]
     },
     "metadata": {},
     "output_type": "display_data"
    }
   ],
   "source": [
    "covid_df <- covid_raw_result_df %>%\n",
    "  mutate(test_positive = ifelse(result == 1, 1, 0),  # Test positive based on \"result\" field\n",
    "         hosp1 = ifelse(reqorg == 1, 1, 0),  # Higher-specificity definition\n",
    "         hosp2 = ifelse(  # Higher-sensitivity definition\n",
    "           ((reqorg %in% c(1, 5)) | (acute == 1) | (hosaq == 1)) &\n",
    "           reqorg != 4,\n",
    "         1, 0),\n",
    "         case_b2 = ifelse(hosp2 & test_positive, 1, 0),\n",
    "#          case_c2 = ifelse(test_positive & ()) \n",
    "        ) %>%\n",
    "  select(id=eid, hosp2, test_positive, case_b2) %>%\n",
    "  group_by(id) %>%\n",
    "  summarise(case_b2 = ifelse(any(case_b2 == 1), 1, 0))\n",
    "\n",
    "dim(covid_df)\n",
    "# head(covid_df)\n",
    "table(covid_df$case_b2)"
   ]
  },
  {
   "cell_type": "markdown",
   "metadata": {},
   "source": [
    "### COVID death causes"
   ]
  },
  {
   "cell_type": "code",
   "execution_count": 10,
   "metadata": {},
   "outputs": [
    {
     "data": {
      "text/html": [
       "<style>\n",
       ".list-inline {list-style: none; margin:0; padding: 0}\n",
       ".list-inline>li {display: inline-block}\n",
       ".list-inline>li:not(:last-child)::after {content: \"\\00b7\"; padding: 0 .5ex}\n",
       "</style>\n",
       "<ol class=list-inline><li>457</li><li>3</li></ol>\n"
      ],
      "text/latex": [
       "\\begin{enumerate*}\n",
       "\\item 457\n",
       "\\item 3\n",
       "\\end{enumerate*}\n"
      ],
      "text/markdown": [
       "1. 457\n",
       "2. 3\n",
       "\n",
       "\n"
      ],
      "text/plain": [
       "[1] 457   3"
      ]
     },
     "metadata": {},
     "output_type": "display_data"
    },
    {
     "data": {
      "text/plain": [
       "\n",
       "U071 U072 \n",
       " 436   21 "
      ]
     },
     "metadata": {},
     "output_type": "display_data"
    }
   ],
   "source": [
    "covid_death_df <- death_cause_df %>%\n",
    "  filter(cause_icd10 %in% c(\"U071\", \"U072\")) %>%\n",
    "  mutate(covid_death = TRUE) %>%\n",
    "  select(id=eid, death_cause_icd10=cause_icd10, covid_death)\n",
    "\n",
    "dim(covid_death_df)\n",
    "# head(covid_death_df)\n",
    "table(covid_death_df$death_cause_icd10)"
   ]
  },
  {
   "cell_type": "markdown",
   "metadata": {},
   "source": [
    "### COVID severe respiratory support/death"
   ]
  },
  {
   "cell_type": "code",
   "execution_count": 11,
   "metadata": {},
   "outputs": [],
   "source": [
    "a <- covid_df %>%\n",
    "  left_join(covid_death_df, by=\"id\") %>%\n",
    "  mutate(covid_death = ifelse(!is.na(covid_death), 1, 0)\n",
    "#          resp_support = .....,\n",
    "#          case_c2 = case_when(\n",
    "#            test_positive & hosp2 & resp ~ 1,  # Respiratory support\n",
    "#            test_positive & hosp2 & !resp & covid_death ~ 1,  # Death w/out respiratory support\n",
    "#            TRUE ~ 0  # Everyone else is a control\n",
    "#          )\n",
    "         )"
   ]
  },
  {
   "cell_type": "markdown",
   "metadata": {},
   "source": [
    "## Social determinants of health"
   ]
  },
  {
   "cell_type": "code",
   "execution_count": 12,
   "metadata": {},
   "outputs": [],
   "source": [
    "#system(paste0(\"gsutil cp \", ws_bucket, \"/phenotypes/ukb44293.tab.gz .\"))"
   ]
  },
  {
   "cell_type": "code",
   "execution_count": 13,
   "metadata": {},
   "outputs": [],
   "source": [
    "#system(\"gunzip ukb44293.tab.gz\")"
   ]
  },
  {
   "cell_type": "code",
   "execution_count": 14,
   "metadata": {},
   "outputs": [],
   "source": [
    "sdh_df <- fread(\"ukb44293.tab\", data.table = F, stringsAsFactors = F) %>%\n",
    "  select(id=f.eid, mdi=f.26410.0.0)"
   ]
  },
  {
   "cell_type": "code",
   "execution_count": 15,
   "metadata": {},
   "outputs": [
    {
     "name": "stderr",
     "output_type": "stream",
     "text": [
      "`stat_bin()` using `bins = 30`. Pick better value with `binwidth`.\n",
      "\n",
      "Warning message:\n",
      "“Removed 69772 rows containing non-finite values (stat_bin).”\n"
     ]
    },
    {
     "data": {
      "image/png": "[encoded data removed]",
      "text/plain": [
       "plot without title"
      ]
     },
     "metadata": {
      "image/png": {
       "height": 360,
       "width": 600
      }
     },
     "output_type": "display_data"
    }
   ],
   "source": [
    "sdh_df %>%\n",
    "  ggplot(aes(x=mdi)) +\n",
    "  geom_histogram()"
   ]
  },
  {
   "cell_type": "markdown",
   "metadata": {},
   "source": [
    "## Other phenotypes\n",
    "\n",
    "* Read in various phenotype files\n",
    "* Create ancestry-specific files with criteria:\n",
    "    - Unrelated\n",
    "    - Passing QC\n",
    "    - Consent not withdrawn\n",
    "* Final output of this section has all exposures and covariates"
   ]
  },
  {
   "cell_type": "code",
   "execution_count": 16,
   "metadata": {},
   "outputs": [],
   "source": [
    "system(paste0(\"gsutil cp \", ws_bucket, \"/phenotypes/UKB*genoQC* .\"))\n",
    "afr_df <- fread(\"UKB_genoQC_AFR_N7447_geneticPCs_genoarray\", data.table = F, stringsAsFactors = F)\n",
    "eas_df <- fread(\"UKB_genoQC_EAS_N2264_geneticPCs_genoarray\", data.table = F, stringsAsFactors = F)\n",
    "eur_df <- fread(\"UKBiobank_genoQC_reportedANDgeneticEUR_N455146_FLOREZ_EUR_PCA_covariates_40dim.txt\", data.table = F, stringsAsFactors = F)\n",
    "sas_df <- fread(\"UKB_genoQC_SAS_N8669_geneticPCs_genoarray\", data.table = F, stringsAsFactors = F)\n",
    "\n",
    "system(paste0(\"gsutil cp \", ws_bucket, \"/phenotypes/w27892* .\"))\n",
    "withdrawn_consent <- scan(\"w27892_20210201.csv\")"
   ]
  },
  {
   "cell_type": "code",
   "execution_count": 17,
   "metadata": {},
   "outputs": [],
   "source": [
    "sample_df <- bind_rows(list(\n",
    "  AFR = afr_df,\n",
    "  EAS = eas_df,\n",
    "  EUR = eur_df,\n",
    "  SAS = sas_df\n",
    "), .id=\"ancestry\") %>%\n",
    "  mutate(array = ifelse(ancestry == \"EUR\", genotyping.array, cov_GENO_ARRAY)) %>%\n",
    "  filter(!(Florez_IID %in% withdrawn_consent),\n",
    "         unrelateds == 1) %>%\n",
    "  select(id=Florez_IID, ancestry, paste0(\"PC\", 1:10), array)"
   ]
  },
  {
   "cell_type": "code",
   "execution_count": 18,
   "metadata": {},
   "outputs": [],
   "source": [
    "exp_and_cov_df <- fread(\"UKBiobank_ALLethnicities_diabetes_complete_2020Feb.txt\") %>%\n",
    "  mutate(sexMale = as.integer(f.31.0.0 == \"Male\")) %>%\n",
    "  select(id=f.eid, sexMale, age=f.21022.0.0,\n",
    "         bmi=f.21001.0.0, t2d=prob_poss_t2dm_all)"
   ]
  },
  {
   "cell_type": "code",
   "execution_count": 40,
   "metadata": {},
   "outputs": [],
   "source": [
    "system(paste0(\"gsutil cp \", ws_bucket, \"/phenotypes/ukb10528.tab.gz .\"))\n",
    "gPC_df <- fread(\"ukb10528.tab.gz\", stringsAsFactors=FALSE,\n",
    "                select=c(\"f.eid\", paste0(\"f.22009.0.\", 1:10))) %>%\n",
    "    dplyr::rename(id=f.eid, \n",
    "                  gPC1=f.22009.0.1, gPC2=f.22009.0.2, gPC3=f.22009.0.3, gPC4=f.22009.0.4, gPC5=f.22009.0.5,\n",
    "                  gPC6=f.22009.0.6, gPC7=f.22009.0.7, gPC8=f.22009.0.8, gPC9=f.22009.0.9, gPC10=f.22009.0.10)"
   ]
  },
  {
   "cell_type": "code",
   "execution_count": 41,
   "metadata": {},
   "outputs": [],
   "source": [
    "pheno_df <- sample_df %>%\n",
    "  inner_join(exp_and_cov_df, by=\"id\") %>%\n",
    "  left_join(gPC_df, by=\"id\") %>%\n",
    "  left_join(sdh_df, by=\"id\")"
   ]
  },
  {
   "cell_type": "code",
   "execution_count": 42,
   "metadata": {},
   "outputs": [
    {
     "data": {
      "text/plain": [
       "\n",
       "   AFR    EAS    EUR    SAS \n",
       "  6806   2173 378051   7895 "
      ]
     },
     "metadata": {},
     "output_type": "display_data"
    },
    {
     "data": {
      "text/plain": [
       "\n",
       "     0      1 \n",
       "212935 181990 "
      ]
     },
     "metadata": {},
     "output_type": "display_data"
    },
    {
     "data": {
      "text/plain": [
       "\n",
       "     0      1 \n",
       "376056  18869 "
      ]
     },
     "metadata": {},
     "output_type": "display_data"
    },
    {
     "data": {
      "image/png": "[encoded data removed]",
      "text/plain": [
       "Plot with title “Histogram of pheno_df$bmi”"
      ]
     },
     "metadata": {
      "image/png": {
       "height": 360,
       "width": 600
      }
     },
     "output_type": "display_data"
    }
   ],
   "source": [
    "table(pheno_df$ancestry)\n",
    "table(pheno_df$sex)\n",
    "hist(pheno_df$bmi)\n",
    "table(pheno_df$t2d)"
   ]
  },
  {
   "cell_type": "markdown",
   "metadata": {},
   "source": [
    "## Merge datasets and write to file"
   ]
  },
  {
   "cell_type": "code",
   "execution_count": 44,
   "metadata": {},
   "outputs": [],
   "source": [
    "# Join covariates + exposures data frame with Covid data frame\n",
    "final_pheno_df <- pheno_df %>%\n",
    "  left_join(covid_df, by=\"id\") %>%\n",
    "  replace_na(list(case_b2=0))"
   ]
  },
  {
   "cell_type": "code",
   "execution_count": 45,
   "metadata": {},
   "outputs": [
    {
     "data": {
      "text/html": [
       "<style>\n",
       ".list-inline {list-style: none; margin:0; padding: 0}\n",
       ".list-inline>li {display: inline-block}\n",
       ".list-inline>li:not(:last-child)::after {content: \"\\00b7\"; padding: 0 .5ex}\n",
       "</style>\n",
       "<ol class=list-inline><li>394925</li><li>29</li></ol>\n"
      ],
      "text/latex": [
       "\\begin{enumerate*}\n",
       "\\item 394925\n",
       "\\item 29\n",
       "\\end{enumerate*}\n"
      ],
      "text/markdown": [
       "1. 394925\n",
       "2. 29\n",
       "\n",
       "\n"
      ],
      "text/plain": [
       "[1] 394925     29"
      ]
     },
     "metadata": {},
     "output_type": "display_data"
    },
    {
     "data": {
      "text/html": [
       "<style>\n",
       ".list-inline {list-style: none; margin:0; padding: 0}\n",
       ".list-inline>li {display: inline-block}\n",
       ".list-inline>li:not(:last-child)::after {content: \"\\00b7\"; padding: 0 .5ex}\n",
       "</style>\n",
       "<ol class=list-inline><li>'id'</li><li>'ancestry'</li><li>'PC1'</li><li>'PC2'</li><li>'PC3'</li><li>'PC4'</li><li>'PC5'</li><li>'PC6'</li><li>'PC7'</li><li>'PC8'</li><li>'PC9'</li><li>'PC10'</li><li>'array'</li><li>'sexMale'</li><li>'age'</li><li>'bmi'</li><li>'t2d'</li><li>'gPC1'</li><li>'gPC2'</li><li>'gPC3'</li><li>'gPC4'</li><li>'gPC5'</li><li>'gPC6'</li><li>'gPC7'</li><li>'gPC8'</li><li>'gPC9'</li><li>'gPC10'</li><li>'mdi'</li><li>'case_b2'</li></ol>\n"
      ],
      "text/latex": [
       "\\begin{enumerate*}\n",
       "\\item 'id'\n",
       "\\item 'ancestry'\n",
       "\\item 'PC1'\n",
       "\\item 'PC2'\n",
       "\\item 'PC3'\n",
       "\\item 'PC4'\n",
       "\\item 'PC5'\n",
       "\\item 'PC6'\n",
       "\\item 'PC7'\n",
       "\\item 'PC8'\n",
       "\\item 'PC9'\n",
       "\\item 'PC10'\n",
       "\\item 'array'\n",
       "\\item 'sexMale'\n",
       "\\item 'age'\n",
       "\\item 'bmi'\n",
       "\\item 't2d'\n",
       "\\item 'gPC1'\n",
       "\\item 'gPC2'\n",
       "\\item 'gPC3'\n",
       "\\item 'gPC4'\n",
       "\\item 'gPC5'\n",
       "\\item 'gPC6'\n",
       "\\item 'gPC7'\n",
       "\\item 'gPC8'\n",
       "\\item 'gPC9'\n",
       "\\item 'gPC10'\n",
       "\\item 'mdi'\n",
       "\\item 'case\\_b2'\n",
       "\\end{enumerate*}\n"
      ],
      "text/markdown": [
       "1. 'id'\n",
       "2. 'ancestry'\n",
       "3. 'PC1'\n",
       "4. 'PC2'\n",
       "5. 'PC3'\n",
       "6. 'PC4'\n",
       "7. 'PC5'\n",
       "8. 'PC6'\n",
       "9. 'PC7'\n",
       "10. 'PC8'\n",
       "11. 'PC9'\n",
       "12. 'PC10'\n",
       "13. 'array'\n",
       "14. 'sexMale'\n",
       "15. 'age'\n",
       "16. 'bmi'\n",
       "17. 't2d'\n",
       "18. 'gPC1'\n",
       "19. 'gPC2'\n",
       "20. 'gPC3'\n",
       "21. 'gPC4'\n",
       "22. 'gPC5'\n",
       "23. 'gPC6'\n",
       "24. 'gPC7'\n",
       "25. 'gPC8'\n",
       "26. 'gPC9'\n",
       "27. 'gPC10'\n",
       "28. 'mdi'\n",
       "29. 'case_b2'\n",
       "\n",
       "\n"
      ],
      "text/plain": [
       " [1] \"id\"       \"ancestry\" \"PC1\"      \"PC2\"      \"PC3\"      \"PC4\"     \n",
       " [7] \"PC5\"      \"PC6\"      \"PC7\"      \"PC8\"      \"PC9\"      \"PC10\"    \n",
       "[13] \"array\"    \"sexMale\"  \"age\"      \"bmi\"      \"t2d\"      \"gPC1\"    \n",
       "[19] \"gPC2\"     \"gPC3\"     \"gPC4\"     \"gPC5\"     \"gPC6\"     \"gPC7\"    \n",
       "[25] \"gPC8\"     \"gPC9\"     \"gPC10\"    \"mdi\"      \"case_b2\" "
      ]
     },
     "metadata": {},
     "output_type": "display_data"
    },
    {
     "data": {
      "text/plain": [
       "        case_b2\n",
       "ancestry      0      1\n",
       "     AFR   6713     93\n",
       "     EAS   2151     22\n",
       "     EUR 375649   2402\n",
       "     SAS   7773    122"
      ]
     },
     "metadata": {},
     "output_type": "display_data"
    }
   ],
   "source": [
    "dim(final_pheno_df)\n",
    "names(final_pheno_df)\n",
    "with(final_pheno_df, table(ancestry, case_b2))"
   ]
  },
  {
   "cell_type": "code",
   "execution_count": 3,
   "metadata": {},
   "outputs": [],
   "source": [
    "# Finally, write pooled and ancestry-specific phenotype files\n",
    "final_pheno_df$ancestryEUR <- as.integer(final_pheno_df$ancestry == \"EUR\")\n",
    "final_pheno_df$ancestryEAS <- as.integer(final_pheno_df$ancestry == \"EAS\")\n",
    "final_pheno_df$ancestrySAS <- as.integer(final_pheno_df$ancestry == \"SAS\")\n",
    "write_csv(final_pheno_df, \"covid_interaction_phenotypes_pooled.csv\")\n",
    "system(paste0(\"gsutil cp covid_interaction_phenotypes_pooled.csv \", ws_bucket, \"/phenotypes/\"))\n",
    "for (anc in unique(final_pheno_df$ancestry)) {\n",
    "    write_csv(filter(final_pheno_df, ancestry == anc),\n",
    "              paste0(\"covid_interaction_phenotypes_\", anc, \".csv\"))\n",
    "    system(paste0(\"gsutil cp covid_interaction_phenotypes_\", anc, \".csv \", ws_bucket, \"/phenotypes/\"))\n",
    "}"
   ]
  },
  {
   "cell_type": "markdown",
   "metadata": {},
   "source": [
    "Below, we will define a new \"case_b2_ds\" phenotype that has the same set of cases as the main phenotype, but a large portion of the controls set to missing so the case-control imbalance is not as extreme (in this case, aiming to achieve a ratio of 1:10)."
   ]
  },
  {
   "cell_type": "code",
   "execution_count": 25,
   "metadata": {},
   "outputs": [
    {
     "name": "stderr",
     "output_type": "stream",
     "text": [
      "\n",
      "\u001b[36m──\u001b[39m \u001b[1m\u001b[1mColumn specification\u001b[1m\u001b[22m \u001b[36m────────────────────────────────────────────────────────\u001b[39m\n",
      "cols(\n",
      "  .default = col_double(),\n",
      "  ancestry = \u001b[31mcol_character()\u001b[39m,\n",
      "  array = \u001b[31mcol_character()\u001b[39m\n",
      ")\n",
      "\u001b[36mℹ\u001b[39m Use \u001b[30m\u001b[47m\u001b[30m\u001b[47m`spec()`\u001b[47m\u001b[30m\u001b[49m\u001b[39m for the full column specifications.\n",
      "\n",
      "\n"
     ]
    },
    {
     "data": {
      "text/plain": [
       "        case_b2_ds\n",
       "ancestry     0     1\n",
       "     AFR  1394    41\n",
       "     EAS   442    10\n",
       "     EUR 76541   702\n",
       "     SAS  1623    45"
      ]
     },
     "metadata": {},
     "output_type": "display_data"
    }
   ],
   "source": [
    "final_pheno_df <- read_csv(\"covid_interaction_phenotypes_pooled.csv\")\n",
    "\n",
    "#Create a second phenotype with randomly-downsampled controls for testing\n",
    "set.seed(1)\n",
    "final_pheno_df$case_b2_ds <- as.integer(NA)\n",
    "final_pheno_df$case_b2_ds[final_pheno_df$case_b2 == 1] <- 1\n",
    "final_pheno_df$case_b2_ds[sample(which(final_pheno_df$case_b2 == 0), size=80000)] <- 0\n",
    "with(final_pheno_df, table(ancestry, case_b2_ds), useNA=\"always\")"
   ]
  },
  {
   "cell_type": "markdown",
   "metadata": {},
   "source": [
    "## Check on exposure-phenotype associations"
   ]
  },
  {
   "cell_type": "markdown",
   "metadata": {},
   "source": [
    "### Basic set of exposures (across all three analyses)"
   ]
  },
  {
   "cell_type": "code",
   "execution_count": 55,
   "metadata": {},
   "outputs": [
    {
     "name": "stdout",
     "output_type": "stream",
     "text": [
      "[1] \"case_b2 ~ sexMale + bmi + t2d + mdi + age + PC1 + PC2 + PC3 + PC4 + PC5 + PC6 + PC7 + PC8 + PC9 + PC10\"\n"
     ]
    },
    {
     "data": {
      "text/html": [
       "<table class=\"dataframe\">\n",
       "<caption>A tibble: 16 × 5</caption>\n",
       "<thead>\n",
       "\t<tr><th scope=col>term</th><th scope=col>estimate</th><th scope=col>std.error</th><th scope=col>statistic</th><th scope=col>p.value</th></tr>\n",
       "\t<tr><th scope=col>&lt;chr&gt;</th><th scope=col>&lt;dbl&gt;</th><th scope=col>&lt;dbl&gt;</th><th scope=col>&lt;dbl&gt;</th><th scope=col>&lt;dbl&gt;</th></tr>\n",
       "</thead>\n",
       "<tbody>\n",
       "\t<tr><td>(Intercept)</td><td>-8.73171008</td><td>0.216400679</td><td>-40.34973518</td><td>0.000000e+00</td></tr>\n",
       "\t<tr><td>sexMale    </td><td> 0.32830778</td><td>0.045617100</td><td>  7.19703309</td><td>6.153683e-13</td></tr>\n",
       "\t<tr><td>bmi        </td><td> 0.05782708</td><td>0.004152679</td><td> 13.92524892</td><td>4.449885e-44</td></tr>\n",
       "\t<tr><td>t2d        </td><td> 0.46354973</td><td>0.076851218</td><td>  6.03178118</td><td>1.621623e-09</td></tr>\n",
       "\t<tr><td>mdi        </td><td> 0.01924839</td><td>0.001368981</td><td> 14.06038112</td><td>6.652697e-45</td></tr>\n",
       "\t<tr><td>age        </td><td> 0.02505544</td><td>0.002986312</td><td>  8.39009305</td><td>4.857576e-17</td></tr>\n",
       "\t<tr><td>PC1        </td><td>-5.62316390</td><td>1.484694575</td><td> -3.78742133</td><td>1.522189e-04</td></tr>\n",
       "\t<tr><td>PC2        </td><td> 3.01262431</td><td>1.698318031</td><td>  1.77388702</td><td>7.608184e-02</td></tr>\n",
       "\t<tr><td>PC3        </td><td>-3.35010311</td><td>2.172301069</td><td> -1.54219098</td><td>1.230272e-01</td></tr>\n",
       "\t<tr><td>PC4        </td><td>-0.17458268</td><td>2.212017466</td><td> -0.07892464</td><td>9.370926e-01</td></tr>\n",
       "\t<tr><td>PC5        </td><td>-1.73727465</td><td>2.211965511</td><td> -0.78539862</td><td>4.322199e-01</td></tr>\n",
       "\t<tr><td>PC6        </td><td>-1.44738057</td><td>2.293680580</td><td> -0.63102970</td><td>5.280211e-01</td></tr>\n",
       "\t<tr><td>PC7        </td><td> 2.43447555</td><td>2.316912196</td><td>  1.05074140</td><td>2.933774e-01</td></tr>\n",
       "\t<tr><td>PC8        </td><td> 3.54360524</td><td>2.378586499</td><td>  1.48979457</td><td>1.362783e-01</td></tr>\n",
       "\t<tr><td>PC9        </td><td> 3.47652380</td><td>2.358064735</td><td>  1.47431228</td><td>1.403975e-01</td></tr>\n",
       "\t<tr><td>PC10       </td><td> 1.25677213</td><td>2.394520672</td><td>  0.52485332</td><td>5.996852e-01</td></tr>\n",
       "</tbody>\n",
       "</table>\n"
      ],
      "text/latex": [
       "A tibble: 16 × 5\n",
       "\\begin{tabular}{lllll}\n",
       " term & estimate & std.error & statistic & p.value\\\\\n",
       " <chr> & <dbl> & <dbl> & <dbl> & <dbl>\\\\\n",
       "\\hline\n",
       "\t (Intercept) & -8.73171008 & 0.216400679 & -40.34973518 & 0.000000e+00\\\\\n",
       "\t sexMale     &  0.32830778 & 0.045617100 &   7.19703309 & 6.153683e-13\\\\\n",
       "\t bmi         &  0.05782708 & 0.004152679 &  13.92524892 & 4.449885e-44\\\\\n",
       "\t t2d         &  0.46354973 & 0.076851218 &   6.03178118 & 1.621623e-09\\\\\n",
       "\t mdi         &  0.01924839 & 0.001368981 &  14.06038112 & 6.652697e-45\\\\\n",
       "\t age         &  0.02505544 & 0.002986312 &   8.39009305 & 4.857576e-17\\\\\n",
       "\t PC1         & -5.62316390 & 1.484694575 &  -3.78742133 & 1.522189e-04\\\\\n",
       "\t PC2         &  3.01262431 & 1.698318031 &   1.77388702 & 7.608184e-02\\\\\n",
       "\t PC3         & -3.35010311 & 2.172301069 &  -1.54219098 & 1.230272e-01\\\\\n",
       "\t PC4         & -0.17458268 & 2.212017466 &  -0.07892464 & 9.370926e-01\\\\\n",
       "\t PC5         & -1.73727465 & 2.211965511 &  -0.78539862 & 4.322199e-01\\\\\n",
       "\t PC6         & -1.44738057 & 2.293680580 &  -0.63102970 & 5.280211e-01\\\\\n",
       "\t PC7         &  2.43447555 & 2.316912196 &   1.05074140 & 2.933774e-01\\\\\n",
       "\t PC8         &  3.54360524 & 2.378586499 &   1.48979457 & 1.362783e-01\\\\\n",
       "\t PC9         &  3.47652380 & 2.358064735 &   1.47431228 & 1.403975e-01\\\\\n",
       "\t PC10        &  1.25677213 & 2.394520672 &   0.52485332 & 5.996852e-01\\\\\n",
       "\\end{tabular}\n"
      ],
      "text/markdown": [
       "\n",
       "A tibble: 16 × 5\n",
       "\n",
       "| term &lt;chr&gt; | estimate &lt;dbl&gt; | std.error &lt;dbl&gt; | statistic &lt;dbl&gt; | p.value &lt;dbl&gt; |\n",
       "|---|---|---|---|---|\n",
       "| (Intercept) | -8.73171008 | 0.216400679 | -40.34973518 | 0.000000e+00 |\n",
       "| sexMale     |  0.32830778 | 0.045617100 |   7.19703309 | 6.153683e-13 |\n",
       "| bmi         |  0.05782708 | 0.004152679 |  13.92524892 | 4.449885e-44 |\n",
       "| t2d         |  0.46354973 | 0.076851218 |   6.03178118 | 1.621623e-09 |\n",
       "| mdi         |  0.01924839 | 0.001368981 |  14.06038112 | 6.652697e-45 |\n",
       "| age         |  0.02505544 | 0.002986312 |   8.39009305 | 4.857576e-17 |\n",
       "| PC1         | -5.62316390 | 1.484694575 |  -3.78742133 | 1.522189e-04 |\n",
       "| PC2         |  3.01262431 | 1.698318031 |   1.77388702 | 7.608184e-02 |\n",
       "| PC3         | -3.35010311 | 2.172301069 |  -1.54219098 | 1.230272e-01 |\n",
       "| PC4         | -0.17458268 | 2.212017466 |  -0.07892464 | 9.370926e-01 |\n",
       "| PC5         | -1.73727465 | 2.211965511 |  -0.78539862 | 4.322199e-01 |\n",
       "| PC6         | -1.44738057 | 2.293680580 |  -0.63102970 | 5.280211e-01 |\n",
       "| PC7         |  2.43447555 | 2.316912196 |   1.05074140 | 2.933774e-01 |\n",
       "| PC8         |  3.54360524 | 2.378586499 |   1.48979457 | 1.362783e-01 |\n",
       "| PC9         |  3.47652380 | 2.358064735 |   1.47431228 | 1.403975e-01 |\n",
       "| PC10        |  1.25677213 | 2.394520672 |   0.52485332 | 5.996852e-01 |\n",
       "\n"
      ],
      "text/plain": [
       "   term        estimate    std.error   statistic    p.value     \n",
       "1  (Intercept) -8.73171008 0.216400679 -40.34973518 0.000000e+00\n",
       "2  sexMale      0.32830778 0.045617100   7.19703309 6.153683e-13\n",
       "3  bmi          0.05782708 0.004152679  13.92524892 4.449885e-44\n",
       "4  t2d          0.46354973 0.076851218   6.03178118 1.621623e-09\n",
       "5  mdi          0.01924839 0.001368981  14.06038112 6.652697e-45\n",
       "6  age          0.02505544 0.002986312   8.39009305 4.857576e-17\n",
       "7  PC1         -5.62316390 1.484694575  -3.78742133 1.522189e-04\n",
       "8  PC2          3.01262431 1.698318031   1.77388702 7.608184e-02\n",
       "9  PC3         -3.35010311 2.172301069  -1.54219098 1.230272e-01\n",
       "10 PC4         -0.17458268 2.212017466  -0.07892464 9.370926e-01\n",
       "11 PC5         -1.73727465 2.211965511  -0.78539862 4.322199e-01\n",
       "12 PC6         -1.44738057 2.293680580  -0.63102970 5.280211e-01\n",
       "13 PC7          2.43447555 2.316912196   1.05074140 2.933774e-01\n",
       "14 PC8          3.54360524 2.378586499   1.48979457 1.362783e-01\n",
       "15 PC9          3.47652380 2.358064735   1.47431228 1.403975e-01\n",
       "16 PC10         1.25677213 2.394520672   0.52485332 5.996852e-01"
      ]
     },
     "metadata": {},
     "output_type": "display_data"
    }
   ],
   "source": [
    "# European-specific (with EUR-specific PCs)\n",
    "lm_covs <- c(\"age\", paste0(\"PC\", 1:10))\n",
    "full_lm_str <- paste0(\"case_b2 ~ sexMale + bmi + t2d + mdi + \", paste(lm_covs, collapse=\" + \"))\n",
    "print(full_lm_str)\n",
    "full_lm <- glm(as.formula(full_lm_str), data=filter(final_pheno_df, ancestry == \"EUR\"), family=\"binomial\")\n",
    "broom::tidy(full_lm)"
   ]
  },
  {
   "cell_type": "code",
   "execution_count": 57,
   "metadata": {},
   "outputs": [
    {
     "data": {
      "text/html": [
       "<table class=\"dataframe\">\n",
       "<caption>A tibble: 31 × 5</caption>\n",
       "<thead>\n",
       "\t<tr><th scope=col>term</th><th scope=col>estimate</th><th scope=col>std.error</th><th scope=col>statistic</th><th scope=col>p.value</th></tr>\n",
       "\t<tr><th scope=col>&lt;chr&gt;</th><th scope=col>&lt;dbl&gt;</th><th scope=col>&lt;dbl&gt;</th><th scope=col>&lt;dbl&gt;</th><th scope=col>&lt;dbl&gt;</th></tr>\n",
       "</thead>\n",
       "<tbody>\n",
       "\t<tr><td>(Intercept)        </td><td>-7.6904414192</td><td>1.127575115</td><td>-6.8203362</td><td>9.082767e-12</td></tr>\n",
       "\t<tr><td>sexMale            </td><td> 0.5511113189</td><td>0.228987690</td><td> 2.4067290</td><td>1.609611e-02</td></tr>\n",
       "\t<tr><td>bmi                </td><td> 0.0717262081</td><td>0.017543218</td><td> 4.0885434</td><td>4.340903e-05</td></tr>\n",
       "\t<tr><td>t2d                </td><td> 0.3903771008</td><td>0.280684487</td><td> 1.3908040</td><td>1.642849e-01</td></tr>\n",
       "\t<tr><td>mdi                </td><td> 0.0049783530</td><td>0.006998023</td><td> 0.7113942</td><td>4.768400e-01</td></tr>\n",
       "\t<tr><td>age                </td><td> 0.0235032717</td><td>0.002815682</td><td> 8.3472762</td><td>6.985524e-17</td></tr>\n",
       "\t<tr><td>gPC1               </td><td> 0.0007551386</td><td>0.002702230</td><td> 0.2794502</td><td>7.798994e-01</td></tr>\n",
       "\t<tr><td>gPC2               </td><td>-0.0127969574</td><td>0.005639888</td><td>-2.2690089</td><td>2.326778e-02</td></tr>\n",
       "\t<tr><td>gPC3               </td><td>-0.0088128504</td><td>0.007550119</td><td>-1.1672466</td><td>2.431108e-01</td></tr>\n",
       "\t<tr><td>gPC4               </td><td> 0.0042260966</td><td>0.003897759</td><td> 1.0842375</td><td>2.782595e-01</td></tr>\n",
       "\t<tr><td>gPC5               </td><td> 0.0120449238</td><td>0.002984518</td><td> 4.0358020</td><td>5.441609e-05</td></tr>\n",
       "\t<tr><td>gPC6               </td><td> 0.0045276798</td><td>0.010079237</td><td> 0.4492086</td><td>6.532812e-01</td></tr>\n",
       "\t<tr><td>gPC7               </td><td>-0.0045687317</td><td>0.006330278</td><td>-0.7217269</td><td>4.704624e-01</td></tr>\n",
       "\t<tr><td>gPC8               </td><td>-0.0085835495</td><td>0.007178885</td><td>-1.1956661</td><td>2.318269e-01</td></tr>\n",
       "\t<tr><td>gPC9               </td><td> 0.0045787921</td><td>0.005645892</td><td> 0.8109953</td><td>4.173684e-01</td></tr>\n",
       "\t<tr><td>gPC10              </td><td> 0.0140196742</td><td>0.006840116</td><td> 2.0496252</td><td>4.040102e-02</td></tr>\n",
       "\t<tr><td>ancestryEAS        </td><td>-6.8743277593</td><td>2.795186379</td><td>-2.4593450</td><td>1.391908e-02</td></tr>\n",
       "\t<tr><td>ancestryEUR        </td><td>-0.9065164639</td><td>1.144625353</td><td>-0.7919766</td><td>4.283743e-01</td></tr>\n",
       "\t<tr><td>ancestrySAS        </td><td>-0.9752145648</td><td>1.498945376</td><td>-0.6506005</td><td>5.153044e-01</td></tr>\n",
       "\t<tr><td>sexMale:ancestryEAS</td><td>-0.2731906176</td><td>0.525161028</td><td>-0.5202035</td><td>6.029217e-01</td></tr>\n",
       "\t<tr><td>sexMale:ancestryEUR</td><td>-0.2232557635</td><td>0.233494139</td><td>-0.9561515</td><td>3.389957e-01</td></tr>\n",
       "\t<tr><td>sexMale:ancestrySAS</td><td>-0.2371018523</td><td>0.308961524</td><td>-0.7674155</td><td>4.428345e-01</td></tr>\n",
       "\t<tr><td>bmi:ancestryEAS    </td><td> 0.0571747638</td><td>0.060359359</td><td> 0.9472394</td><td>3.435168e-01</td></tr>\n",
       "\t<tr><td>bmi:ancestryEUR    </td><td>-0.0138325135</td><td>0.018026603</td><td>-0.7673389</td><td>4.428801e-01</td></tr>\n",
       "\t<tr><td>bmi:ancestrySAS    </td><td>-0.0155953756</td><td>0.026935693</td><td>-0.5789855</td><td>5.625990e-01</td></tr>\n",
       "\t<tr><td>t2d:ancestryEAS    </td><td>-0.9344827050</td><td>1.091970736</td><td>-0.8557763</td><td>3.921215e-01</td></tr>\n",
       "\t<tr><td>t2d:ancestryEUR    </td><td> 0.0770774090</td><td>0.290520927</td><td> 0.2653076</td><td>7.907725e-01</td></tr>\n",
       "\t<tr><td>t2d:ancestrySAS    </td><td>-0.2411876021</td><td>0.365028087</td><td>-0.6607371</td><td>5.087809e-01</td></tr>\n",
       "\t<tr><td>mdi:ancestryEAS    </td><td> 0.0291799836</td><td>0.014862785</td><td> 1.9632918</td><td>4.961227e-02</td></tr>\n",
       "\t<tr><td>mdi:ancestryEUR    </td><td> 0.0140922565</td><td>0.007130614</td><td> 1.9763035</td><td>4.812042e-02</td></tr>\n",
       "\t<tr><td>mdi:ancestrySAS    </td><td> 0.0130491755</td><td>0.009150128</td><td> 1.4261194</td><td>1.538339e-01</td></tr>\n",
       "</tbody>\n",
       "</table>\n"
      ],
      "text/latex": [
       "A tibble: 31 × 5\n",
       "\\begin{tabular}{lllll}\n",
       " term & estimate & std.error & statistic & p.value\\\\\n",
       " <chr> & <dbl> & <dbl> & <dbl> & <dbl>\\\\\n",
       "\\hline\n",
       "\t (Intercept)         & -7.6904414192 & 1.127575115 & -6.8203362 & 9.082767e-12\\\\\n",
       "\t sexMale             &  0.5511113189 & 0.228987690 &  2.4067290 & 1.609611e-02\\\\\n",
       "\t bmi                 &  0.0717262081 & 0.017543218 &  4.0885434 & 4.340903e-05\\\\\n",
       "\t t2d                 &  0.3903771008 & 0.280684487 &  1.3908040 & 1.642849e-01\\\\\n",
       "\t mdi                 &  0.0049783530 & 0.006998023 &  0.7113942 & 4.768400e-01\\\\\n",
       "\t age                 &  0.0235032717 & 0.002815682 &  8.3472762 & 6.985524e-17\\\\\n",
       "\t gPC1                &  0.0007551386 & 0.002702230 &  0.2794502 & 7.798994e-01\\\\\n",
       "\t gPC2                & -0.0127969574 & 0.005639888 & -2.2690089 & 2.326778e-02\\\\\n",
       "\t gPC3                & -0.0088128504 & 0.007550119 & -1.1672466 & 2.431108e-01\\\\\n",
       "\t gPC4                &  0.0042260966 & 0.003897759 &  1.0842375 & 2.782595e-01\\\\\n",
       "\t gPC5                &  0.0120449238 & 0.002984518 &  4.0358020 & 5.441609e-05\\\\\n",
       "\t gPC6                &  0.0045276798 & 0.010079237 &  0.4492086 & 6.532812e-01\\\\\n",
       "\t gPC7                & -0.0045687317 & 0.006330278 & -0.7217269 & 4.704624e-01\\\\\n",
       "\t gPC8                & -0.0085835495 & 0.007178885 & -1.1956661 & 2.318269e-01\\\\\n",
       "\t gPC9                &  0.0045787921 & 0.005645892 &  0.8109953 & 4.173684e-01\\\\\n",
       "\t gPC10               &  0.0140196742 & 0.006840116 &  2.0496252 & 4.040102e-02\\\\\n",
       "\t ancestryEAS         & -6.8743277593 & 2.795186379 & -2.4593450 & 1.391908e-02\\\\\n",
       "\t ancestryEUR         & -0.9065164639 & 1.144625353 & -0.7919766 & 4.283743e-01\\\\\n",
       "\t ancestrySAS         & -0.9752145648 & 1.498945376 & -0.6506005 & 5.153044e-01\\\\\n",
       "\t sexMale:ancestryEAS & -0.2731906176 & 0.525161028 & -0.5202035 & 6.029217e-01\\\\\n",
       "\t sexMale:ancestryEUR & -0.2232557635 & 0.233494139 & -0.9561515 & 3.389957e-01\\\\\n",
       "\t sexMale:ancestrySAS & -0.2371018523 & 0.308961524 & -0.7674155 & 4.428345e-01\\\\\n",
       "\t bmi:ancestryEAS     &  0.0571747638 & 0.060359359 &  0.9472394 & 3.435168e-01\\\\\n",
       "\t bmi:ancestryEUR     & -0.0138325135 & 0.018026603 & -0.7673389 & 4.428801e-01\\\\\n",
       "\t bmi:ancestrySAS     & -0.0155953756 & 0.026935693 & -0.5789855 & 5.625990e-01\\\\\n",
       "\t t2d:ancestryEAS     & -0.9344827050 & 1.091970736 & -0.8557763 & 3.921215e-01\\\\\n",
       "\t t2d:ancestryEUR     &  0.0770774090 & 0.290520927 &  0.2653076 & 7.907725e-01\\\\\n",
       "\t t2d:ancestrySAS     & -0.2411876021 & 0.365028087 & -0.6607371 & 5.087809e-01\\\\\n",
       "\t mdi:ancestryEAS     &  0.0291799836 & 0.014862785 &  1.9632918 & 4.961227e-02\\\\\n",
       "\t mdi:ancestryEUR     &  0.0140922565 & 0.007130614 &  1.9763035 & 4.812042e-02\\\\\n",
       "\t mdi:ancestrySAS     &  0.0130491755 & 0.009150128 &  1.4261194 & 1.538339e-01\\\\\n",
       "\\end{tabular}\n"
      ],
      "text/markdown": [
       "\n",
       "A tibble: 31 × 5\n",
       "\n",
       "| term &lt;chr&gt; | estimate &lt;dbl&gt; | std.error &lt;dbl&gt; | statistic &lt;dbl&gt; | p.value &lt;dbl&gt; |\n",
       "|---|---|---|---|---|\n",
       "| (Intercept)         | -7.6904414192 | 1.127575115 | -6.8203362 | 9.082767e-12 |\n",
       "| sexMale             |  0.5511113189 | 0.228987690 |  2.4067290 | 1.609611e-02 |\n",
       "| bmi                 |  0.0717262081 | 0.017543218 |  4.0885434 | 4.340903e-05 |\n",
       "| t2d                 |  0.3903771008 | 0.280684487 |  1.3908040 | 1.642849e-01 |\n",
       "| mdi                 |  0.0049783530 | 0.006998023 |  0.7113942 | 4.768400e-01 |\n",
       "| age                 |  0.0235032717 | 0.002815682 |  8.3472762 | 6.985524e-17 |\n",
       "| gPC1                |  0.0007551386 | 0.002702230 |  0.2794502 | 7.798994e-01 |\n",
       "| gPC2                | -0.0127969574 | 0.005639888 | -2.2690089 | 2.326778e-02 |\n",
       "| gPC3                | -0.0088128504 | 0.007550119 | -1.1672466 | 2.431108e-01 |\n",
       "| gPC4                |  0.0042260966 | 0.003897759 |  1.0842375 | 2.782595e-01 |\n",
       "| gPC5                |  0.0120449238 | 0.002984518 |  4.0358020 | 5.441609e-05 |\n",
       "| gPC6                |  0.0045276798 | 0.010079237 |  0.4492086 | 6.532812e-01 |\n",
       "| gPC7                | -0.0045687317 | 0.006330278 | -0.7217269 | 4.704624e-01 |\n",
       "| gPC8                | -0.0085835495 | 0.007178885 | -1.1956661 | 2.318269e-01 |\n",
       "| gPC9                |  0.0045787921 | 0.005645892 |  0.8109953 | 4.173684e-01 |\n",
       "| gPC10               |  0.0140196742 | 0.006840116 |  2.0496252 | 4.040102e-02 |\n",
       "| ancestryEAS         | -6.8743277593 | 2.795186379 | -2.4593450 | 1.391908e-02 |\n",
       "| ancestryEUR         | -0.9065164639 | 1.144625353 | -0.7919766 | 4.283743e-01 |\n",
       "| ancestrySAS         | -0.9752145648 | 1.498945376 | -0.6506005 | 5.153044e-01 |\n",
       "| sexMale:ancestryEAS | -0.2731906176 | 0.525161028 | -0.5202035 | 6.029217e-01 |\n",
       "| sexMale:ancestryEUR | -0.2232557635 | 0.233494139 | -0.9561515 | 3.389957e-01 |\n",
       "| sexMale:ancestrySAS | -0.2371018523 | 0.308961524 | -0.7674155 | 4.428345e-01 |\n",
       "| bmi:ancestryEAS     |  0.0571747638 | 0.060359359 |  0.9472394 | 3.435168e-01 |\n",
       "| bmi:ancestryEUR     | -0.0138325135 | 0.018026603 | -0.7673389 | 4.428801e-01 |\n",
       "| bmi:ancestrySAS     | -0.0155953756 | 0.026935693 | -0.5789855 | 5.625990e-01 |\n",
       "| t2d:ancestryEAS     | -0.9344827050 | 1.091970736 | -0.8557763 | 3.921215e-01 |\n",
       "| t2d:ancestryEUR     |  0.0770774090 | 0.290520927 |  0.2653076 | 7.907725e-01 |\n",
       "| t2d:ancestrySAS     | -0.2411876021 | 0.365028087 | -0.6607371 | 5.087809e-01 |\n",
       "| mdi:ancestryEAS     |  0.0291799836 | 0.014862785 |  1.9632918 | 4.961227e-02 |\n",
       "| mdi:ancestryEUR     |  0.0140922565 | 0.007130614 |  1.9763035 | 4.812042e-02 |\n",
       "| mdi:ancestrySAS     |  0.0130491755 | 0.009150128 |  1.4261194 | 1.538339e-01 |\n",
       "\n"
      ],
      "text/plain": [
       "   term                estimate      std.error   statistic  p.value     \n",
       "1  (Intercept)         -7.6904414192 1.127575115 -6.8203362 9.082767e-12\n",
       "2  sexMale              0.5511113189 0.228987690  2.4067290 1.609611e-02\n",
       "3  bmi                  0.0717262081 0.017543218  4.0885434 4.340903e-05\n",
       "4  t2d                  0.3903771008 0.280684487  1.3908040 1.642849e-01\n",
       "5  mdi                  0.0049783530 0.006998023  0.7113942 4.768400e-01\n",
       "6  age                  0.0235032717 0.002815682  8.3472762 6.985524e-17\n",
       "7  gPC1                 0.0007551386 0.002702230  0.2794502 7.798994e-01\n",
       "8  gPC2                -0.0127969574 0.005639888 -2.2690089 2.326778e-02\n",
       "9  gPC3                -0.0088128504 0.007550119 -1.1672466 2.431108e-01\n",
       "10 gPC4                 0.0042260966 0.003897759  1.0842375 2.782595e-01\n",
       "11 gPC5                 0.0120449238 0.002984518  4.0358020 5.441609e-05\n",
       "12 gPC6                 0.0045276798 0.010079237  0.4492086 6.532812e-01\n",
       "13 gPC7                -0.0045687317 0.006330278 -0.7217269 4.704624e-01\n",
       "14 gPC8                -0.0085835495 0.007178885 -1.1956661 2.318269e-01\n",
       "15 gPC9                 0.0045787921 0.005645892  0.8109953 4.173684e-01\n",
       "16 gPC10                0.0140196742 0.006840116  2.0496252 4.040102e-02\n",
       "17 ancestryEAS         -6.8743277593 2.795186379 -2.4593450 1.391908e-02\n",
       "18 ancestryEUR         -0.9065164639 1.144625353 -0.7919766 4.283743e-01\n",
       "19 ancestrySAS         -0.9752145648 1.498945376 -0.6506005 5.153044e-01\n",
       "20 sexMale:ancestryEAS -0.2731906176 0.525161028 -0.5202035 6.029217e-01\n",
       "21 sexMale:ancestryEUR -0.2232557635 0.233494139 -0.9561515 3.389957e-01\n",
       "22 sexMale:ancestrySAS -0.2371018523 0.308961524 -0.7674155 4.428345e-01\n",
       "23 bmi:ancestryEAS      0.0571747638 0.060359359  0.9472394 3.435168e-01\n",
       "24 bmi:ancestryEUR     -0.0138325135 0.018026603 -0.7673389 4.428801e-01\n",
       "25 bmi:ancestrySAS     -0.0155953756 0.026935693 -0.5789855 5.625990e-01\n",
       "26 t2d:ancestryEAS     -0.9344827050 1.091970736 -0.8557763 3.921215e-01\n",
       "27 t2d:ancestryEUR      0.0770774090 0.290520927  0.2653076 7.907725e-01\n",
       "28 t2d:ancestrySAS     -0.2411876021 0.365028087 -0.6607371 5.087809e-01\n",
       "29 mdi:ancestryEAS      0.0291799836 0.014862785  1.9632918 4.961227e-02\n",
       "30 mdi:ancestryEUR      0.0140922565 0.007130614  1.9763035 4.812042e-02\n",
       "31 mdi:ancestrySAS      0.0130491755 0.009150128  1.4261194 1.538339e-01"
      ]
     },
     "metadata": {},
     "output_type": "display_data"
    }
   ],
   "source": [
    "# Pooled\n",
    "lm_covs <- c(\"age\", paste0(\"gPC\", 1:10), \"ancestry * sexMale\", \"ancestry * bmi\", \"ancestry * t2d\", \"ancestry * mdi\")\n",
    "full_lm_str <- paste0(\"case_b2 ~ sexMale + bmi + t2d + mdi + \", paste(lm_covs, collapse=\" + \"))\n",
    "full_lm <- glm(as.formula(full_lm_str), data=final_pheno_df, family=\"binomial\")\n",
    "broom::tidy(full_lm)"
   ]
  }
 ],
 "metadata": {
  "kernelspec": {
   "display_name": "R",
   "language": "R",
   "name": "ir"
  },
  "language_info": {
   "codemirror_mode": "r",
   "file_extension": ".r",
   "mimetype": "text/x-r-source",
   "name": "R",
   "pygments_lexer": "r",
   "version": "4.0.3"
  },
  "toc": {
   "base_numbering": 1,
   "nav_menu": {},
   "number_sections": true,
   "sideBar": true,
   "skip_h1_title": false,
   "title_cell": "Table of Contents",
   "title_sidebar": "Contents",
   "toc_cell": false,
   "toc_position": {},
   "toc_section_display": true,
   "toc_window_display": false
  }
 },
 "nbformat": 4,
 "nbformat_minor": 4
}
