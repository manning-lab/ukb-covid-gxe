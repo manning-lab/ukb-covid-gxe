{
 "cells": [
  {
   "cell_type": "code",
   "execution_count": 33,
   "metadata": {},
   "outputs": [],
   "source": [
    "library(tidyverse)\n",
    "if (!require(data.table)) install.packages(\"data.table\")\n",
    "\n",
    "ws_namespace <- Sys.getenv('WORKSPACE_NAMESPACE')\n",
    "ws_name <- Sys.getenv('WORKSPACE_NAME')\n",
    "ws_bucket <- Sys.getenv('WORKSPACE_BUCKET')  # References workspace bucket (\"gs://fc-secure-...\")"
   ]
  },
  {
   "cell_type": "code",
   "execution_count": 34,
   "metadata": {},
   "outputs": [],
   "source": [
    "options(repr.plot.width = 10, repr.plot.height = 6)"
   ]
  },
  {
   "cell_type": "markdown",
   "metadata": {},
   "source": [
    "# Import and read in files "
   ]
  },
  {
   "cell_type": "markdown",
   "metadata": {},
   "source": [
    "## COVID-19 phenotypes"
   ]
  },
  {
   "cell_type": "code",
   "execution_count": 35,
   "metadata": {},
   "outputs": [],
   "source": [
    "# system(paste0(\"gsutil cp \", ws_bucket, \"/covid_phenotypes_20201008/covid19* .\"))\n",
    "# system(paste0(\"gsutil cp \", ws_bucket, \"/covid_phenotypes_20201008/death* .\"))\n",
    "\n",
    "covid_raw_result_df <- fread(\"covid19_result.20201008.txt\", stringsAsFactors = F)\n",
    "# covid_emis_df <- fread(\"covid19_emis_gp_clinical.20201008.txt\", stringsAsFactors = F)\n",
    "# covid_tpp_df <- fread(\"covid19_tpp_gp_clinical.20201008.txt\", stringsAsFactors = F)\n",
    "death_date_df <- fread(\"death.20201008.txt\", stringsAsFactors = F)\n",
    "death_cause_df <- fread(\"death_cause.20201008.txt\", stringsAsFactors = F)"
   ]
  },
  {
   "cell_type": "code",
   "execution_count": 36,
   "metadata": {},
   "outputs": [
    {
     "data": {
      "text/plain": [
       "\n",
       "    0     1 \n",
       " 7639 20145 "
      ]
     },
     "metadata": {},
     "output_type": "display_data"
    }
   ],
   "source": [
    "# head(covid_raw_result_df)\n",
    "table(covid_raw_result_df$origin)"
   ]
  },
  {
   "cell_type": "markdown",
   "metadata": {},
   "source": [
    "### COVID test results"
   ]
  },
  {
   "cell_type": "code",
   "execution_count": 37,
   "metadata": {},
   "outputs": [
    {
     "name": "stderr",
     "output_type": "stream",
     "text": [
      "`summarise()` ungrouping output (override with `.groups` argument)\n",
      "\n"
     ]
    },
    {
     "data": {
      "text/html": [
       "<style>\n",
       ".list-inline {list-style: none; margin:0; padding: 0}\n",
       ".list-inline>li {display: inline-block}\n",
       ".list-inline>li:not(:last-child)::after {content: \"\\00b7\"; padding: 0 .5ex}\n",
       "</style>\n",
       "<ol class=list-inline><li>18221</li><li>2</li></ol>\n"
      ],
      "text/latex": [
       "\\begin{enumerate*}\n",
       "\\item 18221\n",
       "\\item 2\n",
       "\\end{enumerate*}\n"
      ],
      "text/markdown": [
       "1. 18221\n",
       "2. 2\n",
       "\n",
       "\n"
      ],
      "text/plain": [
       "[1] 18221     2"
      ]
     },
     "metadata": {},
     "output_type": "display_data"
    },
    {
     "data": {
      "text/plain": [
       "\n",
       "FALSE  TRUE \n",
       "16508  1713 "
      ]
     },
     "metadata": {},
     "output_type": "display_data"
    }
   ],
   "source": [
    "covid_test_df <- covid_raw_result_df %>%\n",
    "  select(id=eid, result) %>%\n",
    "  group_by(id) %>%\n",
    "  summarise(test_positive = any(result == 1))\n",
    "\n",
    "dim(covid_test_df)\n",
    "# head(covid_test_df)\n",
    "table(covid_test_df$test_positive)"
   ]
  },
  {
   "cell_type": "markdown",
   "metadata": {},
   "source": [
    "### COVID test results and hospitalization "
   ]
  },
  {
   "cell_type": "code",
   "execution_count": 38,
   "metadata": {
    "scrolled": true
   },
   "outputs": [
    {
     "name": "stderr",
     "output_type": "stream",
     "text": [
      "`summarise()` ungrouping output (override with `.groups` argument)\n",
      "\n"
     ]
    },
    {
     "data": {
      "text/html": [
       "<style>\n",
       ".list-inline {list-style: none; margin:0; padding: 0}\n",
       ".list-inline>li {display: inline-block}\n",
       ".list-inline>li:not(:last-child)::after {content: \"\\00b7\"; padding: 0 .5ex}\n",
       "</style>\n",
       "<ol class=list-inline><li>18221</li><li>2</li></ol>\n"
      ],
      "text/latex": [
       "\\begin{enumerate*}\n",
       "\\item 18221\n",
       "\\item 2\n",
       "\\end{enumerate*}\n"
      ],
      "text/markdown": [
       "1. 18221\n",
       "2. 2\n",
       "\n",
       "\n"
      ],
      "text/plain": [
       "[1] 18221     2"
      ]
     },
     "metadata": {},
     "output_type": "display_data"
    },
    {
     "data": {
      "text/plain": [
       "\n",
       "    0     1 \n",
       "17183  1038 "
      ]
     },
     "metadata": {},
     "output_type": "display_data"
    }
   ],
   "source": [
    "covid_df <- covid_raw_result_df %>%\n",
    "  mutate(test_positive = ifelse(result == 1, 1, 0),  # Test positive based on \"result\" field\n",
    "         hosp1 = ifelse(reqorg == 1, 1, 0),  # Higher-specificity definition\n",
    "         hosp2 = ifelse(  # Higher-sensitivity definition\n",
    "           ((reqorg %in% c(1, 5)) | (acute == 1) | (hosaq == 1)) &\n",
    "           reqorg != 4,\n",
    "         1, 0),\n",
    "         case_b2 = ifelse(hosp2 & test_positive, 1, 0),\n",
    "#          case_c2 = ifelse(test_positive & ()) \n",
    "        ) %>%\n",
    "  select(id=eid, hosp2, test_positive, case_b2) %>%\n",
    "  group_by(id) %>%\n",
    "  summarise(case_b2 = ifelse(any(case_b2 == 1), 1, 0))\n",
    "\n",
    "dim(covid_df)\n",
    "# head(covid_df)\n",
    "table(covid_df$case_b2)"
   ]
  },
  {
   "cell_type": "markdown",
   "metadata": {},
   "source": [
    "### COVID death causes"
   ]
  },
  {
   "cell_type": "code",
   "execution_count": 39,
   "metadata": {},
   "outputs": [
    {
     "data": {
      "text/html": [
       "<style>\n",
       ".list-inline {list-style: none; margin:0; padding: 0}\n",
       ".list-inline>li {display: inline-block}\n",
       ".list-inline>li:not(:last-child)::after {content: \"\\00b7\"; padding: 0 .5ex}\n",
       "</style>\n",
       "<ol class=list-inline><li>457</li><li>3</li></ol>\n"
      ],
      "text/latex": [
       "\\begin{enumerate*}\n",
       "\\item 457\n",
       "\\item 3\n",
       "\\end{enumerate*}\n"
      ],
      "text/markdown": [
       "1. 457\n",
       "2. 3\n",
       "\n",
       "\n"
      ],
      "text/plain": [
       "[1] 457   3"
      ]
     },
     "metadata": {},
     "output_type": "display_data"
    },
    {
     "data": {
      "text/plain": [
       "\n",
       "U071 U072 \n",
       " 436   21 "
      ]
     },
     "metadata": {},
     "output_type": "display_data"
    }
   ],
   "source": [
    "covid_death_df <- death_cause_df %>%\n",
    "  filter(cause_icd10 %in% c(\"U071\", \"U072\")) %>%\n",
    "  mutate(covid_death = TRUE) %>%\n",
    "  select(id=eid, death_cause_icd10=cause_icd10, covid_death)\n",
    "\n",
    "dim(covid_death_df)\n",
    "# head(covid_death_df)\n",
    "table(covid_death_df$death_cause_icd10)"
   ]
  },
  {
   "cell_type": "markdown",
   "metadata": {},
   "source": [
    "### COVID severe respiratory support/death"
   ]
  },
  {
   "cell_type": "code",
   "execution_count": 40,
   "metadata": {},
   "outputs": [],
   "source": [
    "a <- covid_df %>%\n",
    "  left_join(covid_death_df, by=\"id\") %>%\n",
    "  mutate(covid_death = ifelse(!is.na(covid_death), 1, 0)\n",
    "#          resp_support = .....,\n",
    "#          case_c2 = case_when(\n",
    "#            test_positive & hosp2 & resp ~ 1,  # Respiratory support\n",
    "#            test_positive & hosp2 & !resp & covid_death ~ 1,  # Death w/out respiratory support\n",
    "#            TRUE ~ 0  # Everyone else is a control\n",
    "#          )\n",
    "         )"
   ]
  },
  {
   "cell_type": "markdown",
   "metadata": {},
   "source": [
    "## Social determinants of health"
   ]
  },
  {
   "cell_type": "code",
   "execution_count": 41,
   "metadata": {},
   "outputs": [],
   "source": [
    "system(paste0(\"gsutil cp \", ws_bucket, \"/phenotypes/ukb44293.tab.gz .\"))\n",
    "system(\"gunzip ukb44293.tab.gz\")\n",
    "sdh_df <- fread(\"ukb44293.tab\", data.table = F, stringsAsFactors = F) %>%\n",
    "  select(id=f.eid, mdi=f.26410.0.0)"
   ]
  },
  {
   "cell_type": "code",
   "execution_count": 42,
   "metadata": {},
   "outputs": [
    {
     "name": "stderr",
     "output_type": "stream",
     "text": [
      "`stat_bin()` using `bins = 30`. Pick better value with `binwidth`.\n",
      "\n",
      "Warning message:\n",
      "“Removed 69772 rows containing non-finite values (stat_bin).”\n"
     ]
    },
    {
     "data": {
      "image/png": "[encoded data removed]",
      "text/plain": [
       "plot without title"
      ]
     },
     "metadata": {
      "image/png": {
       "height": 360,
       "width": 600
      }
     },
     "output_type": "display_data"
    }
   ],
   "source": [
    "sdh_df %>%\n",
    "  ggplot(aes(x=mdi)) +\n",
    "  geom_histogram()"
   ]
  },
  {
   "cell_type": "markdown",
   "metadata": {},
   "source": [
    "## Other phenotypes\n",
    "\n",
    "* Read in various phenotype files\n",
    "* Create ancestry-specific files with criteria:\n",
    "    - Unrelated\n",
    "    - Passing QC\n",
    "    - Consent not withdrawn\n",
    "* Final output of this section has all exposures and covariates"
   ]
  },
  {
   "cell_type": "code",
   "execution_count": 43,
   "metadata": {},
   "outputs": [],
   "source": [
    "system(paste0(\"gsutil cp \", ws_bucket, \"/phenotypes/* .\"))\n",
    "afr_df <- fread(\"UKB_genoQC_AFR_N7447_geneticPCs_genoarray\", data.table = F, stringsAsFactors = F)\n",
    "eas_df <- fread(\"UKB_genoQC_EAS_N2264_geneticPCs_genoarray\", data.table = F, stringsAsFactors = F)\n",
    "eur_df <- fread(\"UKBiobank_genoQC_reportedANDgeneticEUR_N455146_FLOREZ_EUR_PCA_covariates_40dim.txt\", data.table = F, stringsAsFactors = F)\n",
    "sas_df <- fread(\"UKB_genoQC_SAS_N8669_geneticPCs_genoarray\", data.table = F, stringsAsFactors = F)\n",
    "withdrawn_consent <- scan(\"w27892_20200820.csv\")"
   ]
  },
  {
   "cell_type": "code",
   "execution_count": 44,
   "metadata": {},
   "outputs": [],
   "source": [
    "sample_df <- bind_rows(list(\n",
    "  AFR = afr_df,\n",
    "  EAS = eas_df,\n",
    "  EUR = eur_df,\n",
    "  SAS = sas_df\n",
    "), .id=\"ancestry\") %>%\n",
    "  mutate(array = ifelse(ancestry == \"EUR\", genotyping.array, cov_GENO_ARRAY)) %>%\n",
    "  filter(!(Florez_IID %in% withdrawn_consent),\n",
    "         unrelateds == 1) %>%\n",
    "  select(id=Florez_IID, ancestry, paste0(\"PC\", 1:10), array)"
   ]
  },
  {
   "cell_type": "code",
   "execution_count": 45,
   "metadata": {},
   "outputs": [],
   "source": [
    "exp_and_cov_df <- fread(\"UKBiobank_ALLethnicities_diabetes_complete_2020Feb.txt\") %>%\n",
    "  mutate(sexMale = as.integer(f.31.0.0 == \"Male\")) %>%\n",
    "  select(id=f.eid, sexMale, age=f.21022.0.0,\n",
    "         bmi=f.21001.0.0, t2d=prob_poss_t2dm_all)"
   ]
  },
  {
   "cell_type": "code",
   "execution_count": 46,
   "metadata": {},
   "outputs": [],
   "source": [
    "pheno_df <- sample_df %>%\n",
    "  inner_join(exp_and_cov_df, by=\"id\") %>%\n",
    "  left_join(sdh_df, by=\"id\")"
   ]
  },
  {
   "cell_type": "code",
   "execution_count": 47,
   "metadata": {},
   "outputs": [
    {
     "data": {
      "text/plain": [
       "\n",
       "   AFR    EAS    EUR    SAS \n",
       "  6806   2173 378054   7895 "
      ]
     },
     "metadata": {},
     "output_type": "display_data"
    },
    {
     "data": {
      "text/plain": [
       "\n",
       "     0      1 \n",
       "212936 181992 "
      ]
     },
     "metadata": {},
     "output_type": "display_data"
    },
    {
     "data": {
      "text/plain": [
       "\n",
       "     0      1 \n",
       "376059  18869 "
      ]
     },
     "metadata": {},
     "output_type": "display_data"
    },
    {
     "data": {
      "image/png": "[encoded data removed]",
      "text/plain": [
       "Plot with title “Histogram of pheno_df$bmi”"
      ]
     },
     "metadata": {
      "image/png": {
       "height": 360,
       "width": 600
      }
     },
     "output_type": "display_data"
    }
   ],
   "source": [
    "table(pheno_df$ancestry)\n",
    "table(pheno_df$sex)\n",
    "hist(pheno_df$bmi)\n",
    "table(pheno_df$t2d)"
   ]
  },
  {
   "cell_type": "markdown",
   "metadata": {},
   "source": [
    "## Merge datasets and write to file"
   ]
  },
  {
   "cell_type": "code",
   "execution_count": 48,
   "metadata": {},
   "outputs": [],
   "source": [
    "# Join covariates + exposures data frame with Covid data frame\n",
    "final_pheno_df <- pheno_df %>%\n",
    "  left_join(covid_df, by=\"id\") %>%\n",
    "  replace_na(list(case_b2=0))"
   ]
  },
  {
   "cell_type": "code",
   "execution_count": 49,
   "metadata": {},
   "outputs": [
    {
     "data": {
      "text/html": [
       "<style>\n",
       ".list-inline {list-style: none; margin:0; padding: 0}\n",
       ".list-inline>li {display: inline-block}\n",
       ".list-inline>li:not(:last-child)::after {content: \"\\00b7\"; padding: 0 .5ex}\n",
       "</style>\n",
       "<ol class=list-inline><li>394928</li><li>19</li></ol>\n"
      ],
      "text/latex": [
       "\\begin{enumerate*}\n",
       "\\item 394928\n",
       "\\item 19\n",
       "\\end{enumerate*}\n"
      ],
      "text/markdown": [
       "1. 394928\n",
       "2. 19\n",
       "\n",
       "\n"
      ],
      "text/plain": [
       "[1] 394928     19"
      ]
     },
     "metadata": {},
     "output_type": "display_data"
    },
    {
     "data": {
      "text/html": [
       "<style>\n",
       ".list-inline {list-style: none; margin:0; padding: 0}\n",
       ".list-inline>li {display: inline-block}\n",
       ".list-inline>li:not(:last-child)::after {content: \"\\00b7\"; padding: 0 .5ex}\n",
       "</style>\n",
       "<ol class=list-inline><li>'id'</li><li>'ancestry'</li><li>'PC1'</li><li>'PC2'</li><li>'PC3'</li><li>'PC4'</li><li>'PC5'</li><li>'PC6'</li><li>'PC7'</li><li>'PC8'</li><li>'PC9'</li><li>'PC10'</li><li>'array'</li><li>'sexMale'</li><li>'age'</li><li>'bmi'</li><li>'t2d'</li><li>'mdi'</li><li>'case_b2'</li></ol>\n"
      ],
      "text/latex": [
       "\\begin{enumerate*}\n",
       "\\item 'id'\n",
       "\\item 'ancestry'\n",
       "\\item 'PC1'\n",
       "\\item 'PC2'\n",
       "\\item 'PC3'\n",
       "\\item 'PC4'\n",
       "\\item 'PC5'\n",
       "\\item 'PC6'\n",
       "\\item 'PC7'\n",
       "\\item 'PC8'\n",
       "\\item 'PC9'\n",
       "\\item 'PC10'\n",
       "\\item 'array'\n",
       "\\item 'sexMale'\n",
       "\\item 'age'\n",
       "\\item 'bmi'\n",
       "\\item 't2d'\n",
       "\\item 'mdi'\n",
       "\\item 'case\\_b2'\n",
       "\\end{enumerate*}\n"
      ],
      "text/markdown": [
       "1. 'id'\n",
       "2. 'ancestry'\n",
       "3. 'PC1'\n",
       "4. 'PC2'\n",
       "5. 'PC3'\n",
       "6. 'PC4'\n",
       "7. 'PC5'\n",
       "8. 'PC6'\n",
       "9. 'PC7'\n",
       "10. 'PC8'\n",
       "11. 'PC9'\n",
       "12. 'PC10'\n",
       "13. 'array'\n",
       "14. 'sexMale'\n",
       "15. 'age'\n",
       "16. 'bmi'\n",
       "17. 't2d'\n",
       "18. 'mdi'\n",
       "19. 'case_b2'\n",
       "\n",
       "\n"
      ],
      "text/plain": [
       " [1] \"id\"       \"ancestry\" \"PC1\"      \"PC2\"      \"PC3\"      \"PC4\"     \n",
       " [7] \"PC5\"      \"PC6\"      \"PC7\"      \"PC8\"      \"PC9\"      \"PC10\"    \n",
       "[13] \"array\"    \"sexMale\"  \"age\"      \"bmi\"      \"t2d\"      \"mdi\"     \n",
       "[19] \"case_b2\" "
      ]
     },
     "metadata": {},
     "output_type": "display_data"
    },
    {
     "data": {
      "text/plain": [
       "        case_b2\n",
       "ancestry      0      1\n",
       "     AFR   6765     41\n",
       "     EAS   2163     10\n",
       "     EUR 377352    702\n",
       "     SAS   7850     45"
      ]
     },
     "metadata": {},
     "output_type": "display_data"
    }
   ],
   "source": [
    "dim(final_pheno_df)\n",
    "names(final_pheno_df)\n",
    "with(final_pheno_df, table(ancestry, case_b2))"
   ]
  },
  {
   "cell_type": "markdown",
   "metadata": {},
   "source": [
    "Below, we will define a new \"case_b2_ds\" phenotype that has the same set of cases as the main phenotype, but a large portion of the controls set to missing so the case-control imbalance is not as extreme (in this case, aiming to achieve a ratio of 1:10)."
   ]
  },
  {
   "cell_type": "code",
   "execution_count": 50,
   "metadata": {},
   "outputs": [
    {
     "name": "stderr",
     "output_type": "stream",
     "text": [
      "\n",
      "\u001b[36m──\u001b[39m \u001b[1m\u001b[1mColumn specification\u001b[1m\u001b[22m \u001b[36m────────────────────────────────────────────────────────\u001b[39m\n",
      "cols(\n",
      "  .default = col_double(),\n",
      "  ancestry = \u001b[31mcol_character()\u001b[39m,\n",
      "  array = \u001b[31mcol_character()\u001b[39m\n",
      ")\n",
      "\u001b[36mℹ\u001b[39m Use \u001b[30m\u001b[47m\u001b[30m\u001b[47m`spec()`\u001b[47m\u001b[30m\u001b[49m\u001b[39m for the full column specifications.\n",
      "\n",
      "\n"
     ]
    },
    {
     "data": {
      "text/plain": [
       "        case_b2_ds\n",
       "ancestry     0     1\n",
       "     AFR  1394    41\n",
       "     EAS   442    10\n",
       "     EUR 76541   702\n",
       "     SAS  1623    45"
      ]
     },
     "metadata": {},
     "output_type": "display_data"
    }
   ],
   "source": [
    "final_pheno_df <- read_csv(\"covid_interaction_phenotypes_pooled.csv\")\n",
    "\n",
    "# Create a second phenotype with randomly-downsampled controls for testing\n",
    "set.seed(1)\n",
    "final_pheno_df$case_b2_ds <- as.integer(NA)\n",
    "final_pheno_df$case_b2_ds[final_pheno_df$case_b2 == 1] <- 1\n",
    "final_pheno_df$case_b2_ds[sample(which(final_pheno_df$case_b2 == 0), size=80000)] <- 0\n",
    "with(final_pheno_df, table(ancestry, case_b2_ds), useNA=\"always\")"
   ]
  },
  {
   "cell_type": "code",
   "execution_count": 51,
   "metadata": {},
   "outputs": [],
   "source": [
    "# Finally, write pooled and ancestry-specific phenotype files\n",
    "\n",
    "write_csv(final_pheno_df, \"covid_interaction_phenotypes_pooled.csv\")\n",
    "system(paste0(\"gsutil cp covid_interaction_phenotypes_pooled.csv \", ws_bucket, \"/phenotypes/\"))\n",
    "\n",
    "for (anc in c(\"AFR\", \"EAS\", \"EUR\", \"SAS\")) {\n",
    "  final_pheno_df %>%\n",
    "    filter(ancestry == anc) %>%\n",
    "    write_csv(paste0(\"covid_interaction_phenotypes_\", anc, \".csv\"))\n",
    "  system(paste0(\"gsutil cp covid_interaction_phenotypes_\", anc, \".csv \", ws_bucket, \"/phenotypes/\"))\n",
    "}"
   ]
  },
  {
   "cell_type": "markdown",
   "metadata": {},
   "source": [
    "## Check on exposure-phenotype associations"
   ]
  },
  {
   "cell_type": "code",
   "execution_count": 52,
   "metadata": {},
   "outputs": [
    {
     "data": {
      "text/html": [
       "<table>\n",
       "<caption>A tibble: 8 × 5</caption>\n",
       "<thead>\n",
       "\t<tr><th scope=col>term</th><th scope=col>estimate</th><th scope=col>std.error</th><th scope=col>statistic</th><th scope=col>p.value</th></tr>\n",
       "\t<tr><th scope=col>&lt;chr&gt;</th><th scope=col>&lt;dbl&gt;</th><th scope=col>&lt;dbl&gt;</th><th scope=col>&lt;dbl&gt;</th><th scope=col>&lt;dbl&gt;</th></tr>\n",
       "</thead>\n",
       "<tbody>\n",
       "\t<tr><td>(Intercept)</td><td>-7.39319055</td><td>0.264398456</td><td>-27.9623060</td><td>4.671280e-172</td></tr>\n",
       "\t<tr><td>sexMale    </td><td> 0.43349717</td><td>0.071614558</td><td>  6.0531989</td><td> 1.419973e-09</td></tr>\n",
       "\t<tr><td>age        </td><td> 0.01689903</td><td>0.004508246</td><td>  3.7484723</td><td> 1.779150e-04</td></tr>\n",
       "\t<tr><td>PC1        </td><td> 0.17524491</td><td>1.663984657</td><td>  0.1053164</td><td> 9.161247e-01</td></tr>\n",
       "\t<tr><td>PC2        </td><td>-2.80139244</td><td>2.362017692</td><td> -1.1860167</td><td> 2.356157e-01</td></tr>\n",
       "\t<tr><td>PC3        </td><td>-2.94805138</td><td>3.024383643</td><td> -0.9747611</td><td> 3.296788e-01</td></tr>\n",
       "\t<tr><td>PC4        </td><td>-1.29417940</td><td>3.181382386</td><td> -0.4067978</td><td> 6.841565e-01</td></tr>\n",
       "\t<tr><td>PC5        </td><td> 1.89376638</td><td>3.265302975</td><td>  0.5799665</td><td> 5.619372e-01</td></tr>\n",
       "</tbody>\n",
       "</table>\n"
      ],
      "text/latex": [
       "A tibble: 8 × 5\n",
       "\\begin{tabular}{lllll}\n",
       " term & estimate & std.error & statistic & p.value\\\\\n",
       " <chr> & <dbl> & <dbl> & <dbl> & <dbl>\\\\\n",
       "\\hline\n",
       "\t (Intercept) & -7.39319055 & 0.264398456 & -27.9623060 & 4.671280e-172\\\\\n",
       "\t sexMale     &  0.43349717 & 0.071614558 &   6.0531989 &  1.419973e-09\\\\\n",
       "\t age         &  0.01689903 & 0.004508246 &   3.7484723 &  1.779150e-04\\\\\n",
       "\t PC1         &  0.17524491 & 1.663984657 &   0.1053164 &  9.161247e-01\\\\\n",
       "\t PC2         & -2.80139244 & 2.362017692 &  -1.1860167 &  2.356157e-01\\\\\n",
       "\t PC3         & -2.94805138 & 3.024383643 &  -0.9747611 &  3.296788e-01\\\\\n",
       "\t PC4         & -1.29417940 & 3.181382386 &  -0.4067978 &  6.841565e-01\\\\\n",
       "\t PC5         &  1.89376638 & 3.265302975 &   0.5799665 &  5.619372e-01\\\\\n",
       "\\end{tabular}\n"
      ],
      "text/markdown": [
       "\n",
       "A tibble: 8 × 5\n",
       "\n",
       "| term &lt;chr&gt; | estimate &lt;dbl&gt; | std.error &lt;dbl&gt; | statistic &lt;dbl&gt; | p.value &lt;dbl&gt; |\n",
       "|---|---|---|---|---|\n",
       "| (Intercept) | -7.39319055 | 0.264398456 | -27.9623060 | 4.671280e-172 |\n",
       "| sexMale     |  0.43349717 | 0.071614558 |   6.0531989 |  1.419973e-09 |\n",
       "| age         |  0.01689903 | 0.004508246 |   3.7484723 |  1.779150e-04 |\n",
       "| PC1         |  0.17524491 | 1.663984657 |   0.1053164 |  9.161247e-01 |\n",
       "| PC2         | -2.80139244 | 2.362017692 |  -1.1860167 |  2.356157e-01 |\n",
       "| PC3         | -2.94805138 | 3.024383643 |  -0.9747611 |  3.296788e-01 |\n",
       "| PC4         | -1.29417940 | 3.181382386 |  -0.4067978 |  6.841565e-01 |\n",
       "| PC5         |  1.89376638 | 3.265302975 |   0.5799665 |  5.619372e-01 |\n",
       "\n"
      ],
      "text/plain": [
       "  term        estimate    std.error   statistic   p.value      \n",
       "1 (Intercept) -7.39319055 0.264398456 -27.9623060 4.671280e-172\n",
       "2 sexMale      0.43349717 0.071614558   6.0531989  1.419973e-09\n",
       "3 age          0.01689903 0.004508246   3.7484723  1.779150e-04\n",
       "4 PC1          0.17524491 1.663984657   0.1053164  9.161247e-01\n",
       "5 PC2         -2.80139244 2.362017692  -1.1860167  2.356157e-01\n",
       "6 PC3         -2.94805138 3.024383643  -0.9747611  3.296788e-01\n",
       "7 PC4         -1.29417940 3.181382386  -0.4067978  6.841565e-01\n",
       "8 PC5          1.89376638 3.265302975   0.5799665  5.619372e-01"
      ]
     },
     "metadata": {},
     "output_type": "display_data"
    },
    {
     "data": {
      "text/html": [
       "<table>\n",
       "<caption>A tibble: 9 × 5</caption>\n",
       "<thead>\n",
       "\t<tr><th scope=col>term</th><th scope=col>estimate</th><th scope=col>std.error</th><th scope=col>statistic</th><th scope=col>p.value</th></tr>\n",
       "\t<tr><th scope=col>&lt;chr&gt;</th><th scope=col>&lt;dbl&gt;</th><th scope=col>&lt;dbl&gt;</th><th scope=col>&lt;dbl&gt;</th><th scope=col>&lt;dbl&gt;</th></tr>\n",
       "</thead>\n",
       "<tbody>\n",
       "\t<tr><td>(Intercept)</td><td>-8.41224527</td><td>0.327757936</td><td>-25.6660308</td><td>2.800503e-145</td></tr>\n",
       "\t<tr><td>bmi        </td><td> 0.04871600</td><td>0.006563550</td><td>  7.4222023</td><td> 1.151887e-13</td></tr>\n",
       "\t<tr><td>t2d        </td><td> 0.71923584</td><td>0.115959470</td><td>  6.2024761</td><td> 5.558164e-10</td></tr>\n",
       "\t<tr><td>age        </td><td> 0.01361494</td><td>0.004595634</td><td>  2.9625823</td><td> 3.050702e-03</td></tr>\n",
       "\t<tr><td>PC1        </td><td> 0.31105002</td><td>1.631204056</td><td>  0.1906874</td><td> 8.487705e-01</td></tr>\n",
       "\t<tr><td>PC2        </td><td>-2.75200205</td><td>2.355186079</td><td> -1.1684860</td><td> 2.426108e-01</td></tr>\n",
       "\t<tr><td>PC3        </td><td>-2.86820868</td><td>3.028871347</td><td> -0.9469563</td><td> 3.436611e-01</td></tr>\n",
       "\t<tr><td>PC4        </td><td>-0.67447554</td><td>3.158065829</td><td> -0.2135723</td><td> 8.308806e-01</td></tr>\n",
       "\t<tr><td>PC5        </td><td> 1.45808051</td><td>3.251391991</td><td>  0.4484481</td><td> 6.538298e-01</td></tr>\n",
       "</tbody>\n",
       "</table>\n"
      ],
      "text/latex": [
       "A tibble: 9 × 5\n",
       "\\begin{tabular}{lllll}\n",
       " term & estimate & std.error & statistic & p.value\\\\\n",
       " <chr> & <dbl> & <dbl> & <dbl> & <dbl>\\\\\n",
       "\\hline\n",
       "\t (Intercept) & -8.41224527 & 0.327757936 & -25.6660308 & 2.800503e-145\\\\\n",
       "\t bmi         &  0.04871600 & 0.006563550 &   7.4222023 &  1.151887e-13\\\\\n",
       "\t t2d         &  0.71923584 & 0.115959470 &   6.2024761 &  5.558164e-10\\\\\n",
       "\t age         &  0.01361494 & 0.004595634 &   2.9625823 &  3.050702e-03\\\\\n",
       "\t PC1         &  0.31105002 & 1.631204056 &   0.1906874 &  8.487705e-01\\\\\n",
       "\t PC2         & -2.75200205 & 2.355186079 &  -1.1684860 &  2.426108e-01\\\\\n",
       "\t PC3         & -2.86820868 & 3.028871347 &  -0.9469563 &  3.436611e-01\\\\\n",
       "\t PC4         & -0.67447554 & 3.158065829 &  -0.2135723 &  8.308806e-01\\\\\n",
       "\t PC5         &  1.45808051 & 3.251391991 &   0.4484481 &  6.538298e-01\\\\\n",
       "\\end{tabular}\n"
      ],
      "text/markdown": [
       "\n",
       "A tibble: 9 × 5\n",
       "\n",
       "| term &lt;chr&gt; | estimate &lt;dbl&gt; | std.error &lt;dbl&gt; | statistic &lt;dbl&gt; | p.value &lt;dbl&gt; |\n",
       "|---|---|---|---|---|\n",
       "| (Intercept) | -8.41224527 | 0.327757936 | -25.6660308 | 2.800503e-145 |\n",
       "| bmi         |  0.04871600 | 0.006563550 |   7.4222023 |  1.151887e-13 |\n",
       "| t2d         |  0.71923584 | 0.115959470 |   6.2024761 |  5.558164e-10 |\n",
       "| age         |  0.01361494 | 0.004595634 |   2.9625823 |  3.050702e-03 |\n",
       "| PC1         |  0.31105002 | 1.631204056 |   0.1906874 |  8.487705e-01 |\n",
       "| PC2         | -2.75200205 | 2.355186079 |  -1.1684860 |  2.426108e-01 |\n",
       "| PC3         | -2.86820868 | 3.028871347 |  -0.9469563 |  3.436611e-01 |\n",
       "| PC4         | -0.67447554 | 3.158065829 |  -0.2135723 |  8.308806e-01 |\n",
       "| PC5         |  1.45808051 | 3.251391991 |   0.4484481 |  6.538298e-01 |\n",
       "\n"
      ],
      "text/plain": [
       "  term        estimate    std.error   statistic   p.value      \n",
       "1 (Intercept) -8.41224527 0.327757936 -25.6660308 2.800503e-145\n",
       "2 bmi          0.04871600 0.006563550   7.4222023  1.151887e-13\n",
       "3 t2d          0.71923584 0.115959470   6.2024761  5.558164e-10\n",
       "4 age          0.01361494 0.004595634   2.9625823  3.050702e-03\n",
       "5 PC1          0.31105002 1.631204056   0.1906874  8.487705e-01\n",
       "6 PC2         -2.75200205 2.355186079  -1.1684860  2.426108e-01\n",
       "7 PC3         -2.86820868 3.028871347  -0.9469563  3.436611e-01\n",
       "8 PC4         -0.67447554 3.158065829  -0.2135723  8.308806e-01\n",
       "9 PC5          1.45808051 3.251391991   0.4484481  6.538298e-01"
      ]
     },
     "metadata": {},
     "output_type": "display_data"
    },
    {
     "data": {
      "text/html": [
       "<table>\n",
       "<caption>A tibble: 8 × 5</caption>\n",
       "<thead>\n",
       "\t<tr><th scope=col>term</th><th scope=col>estimate</th><th scope=col>std.error</th><th scope=col>statistic</th><th scope=col>p.value</th></tr>\n",
       "\t<tr><th scope=col>&lt;chr&gt;</th><th scope=col>&lt;dbl&gt;</th><th scope=col>&lt;dbl&gt;</th><th scope=col>&lt;dbl&gt;</th><th scope=col>&lt;dbl&gt;</th></tr>\n",
       "</thead>\n",
       "<tbody>\n",
       "\t<tr><td>(Intercept)</td><td>-7.76668678</td><td>0.275716930</td><td>-28.1690602</td><td>1.400122e-174</td></tr>\n",
       "\t<tr><td>mdi        </td><td> 0.02405108</td><td>0.002100392</td><td> 11.4507582</td><td> 2.330977e-30</td></tr>\n",
       "\t<tr><td>age        </td><td> 0.02101852</td><td>0.004602299</td><td>  4.5669612</td><td> 4.948455e-06</td></tr>\n",
       "\t<tr><td>PC1        </td><td>-1.56112046</td><td>1.525168137</td><td> -1.0235727</td><td> 3.060371e-01</td></tr>\n",
       "\t<tr><td>PC2        </td><td> 0.49987825</td><td>2.289628771</td><td>  0.2183228</td><td> 8.271776e-01</td></tr>\n",
       "\t<tr><td>PC3        </td><td>-3.38479218</td><td>2.964711455</td><td> -1.1416936</td><td> 2.535814e-01</td></tr>\n",
       "\t<tr><td>PC4        </td><td>-2.24165043</td><td>3.202008868</td><td> -0.7000763</td><td> 4.838797e-01</td></tr>\n",
       "\t<tr><td>PC5        </td><td> 2.10360429</td><td>3.215901050</td><td>  0.6541259</td><td> 5.130307e-01</td></tr>\n",
       "</tbody>\n",
       "</table>\n"
      ],
      "text/latex": [
       "A tibble: 8 × 5\n",
       "\\begin{tabular}{lllll}\n",
       " term & estimate & std.error & statistic & p.value\\\\\n",
       " <chr> & <dbl> & <dbl> & <dbl> & <dbl>\\\\\n",
       "\\hline\n",
       "\t (Intercept) & -7.76668678 & 0.275716930 & -28.1690602 & 1.400122e-174\\\\\n",
       "\t mdi         &  0.02405108 & 0.002100392 &  11.4507582 &  2.330977e-30\\\\\n",
       "\t age         &  0.02101852 & 0.004602299 &   4.5669612 &  4.948455e-06\\\\\n",
       "\t PC1         & -1.56112046 & 1.525168137 &  -1.0235727 &  3.060371e-01\\\\\n",
       "\t PC2         &  0.49987825 & 2.289628771 &   0.2183228 &  8.271776e-01\\\\\n",
       "\t PC3         & -3.38479218 & 2.964711455 &  -1.1416936 &  2.535814e-01\\\\\n",
       "\t PC4         & -2.24165043 & 3.202008868 &  -0.7000763 &  4.838797e-01\\\\\n",
       "\t PC5         &  2.10360429 & 3.215901050 &   0.6541259 &  5.130307e-01\\\\\n",
       "\\end{tabular}\n"
      ],
      "text/markdown": [
       "\n",
       "A tibble: 8 × 5\n",
       "\n",
       "| term &lt;chr&gt; | estimate &lt;dbl&gt; | std.error &lt;dbl&gt; | statistic &lt;dbl&gt; | p.value &lt;dbl&gt; |\n",
       "|---|---|---|---|---|\n",
       "| (Intercept) | -7.76668678 | 0.275716930 | -28.1690602 | 1.400122e-174 |\n",
       "| mdi         |  0.02405108 | 0.002100392 |  11.4507582 |  2.330977e-30 |\n",
       "| age         |  0.02101852 | 0.004602299 |   4.5669612 |  4.948455e-06 |\n",
       "| PC1         | -1.56112046 | 1.525168137 |  -1.0235727 |  3.060371e-01 |\n",
       "| PC2         |  0.49987825 | 2.289628771 |   0.2183228 |  8.271776e-01 |\n",
       "| PC3         | -3.38479218 | 2.964711455 |  -1.1416936 |  2.535814e-01 |\n",
       "| PC4         | -2.24165043 | 3.202008868 |  -0.7000763 |  4.838797e-01 |\n",
       "| PC5         |  2.10360429 | 3.215901050 |   0.6541259 |  5.130307e-01 |\n",
       "\n"
      ],
      "text/plain": [
       "  term        estimate    std.error   statistic   p.value      \n",
       "1 (Intercept) -7.76668678 0.275716930 -28.1690602 1.400122e-174\n",
       "2 mdi          0.02405108 0.002100392  11.4507582  2.330977e-30\n",
       "3 age          0.02101852 0.004602299   4.5669612  4.948455e-06\n",
       "4 PC1         -1.56112046 1.525168137  -1.0235727  3.060371e-01\n",
       "5 PC2          0.49987825 2.289628771   0.2183228  8.271776e-01\n",
       "6 PC3         -3.38479218 2.964711455  -1.1416936  2.535814e-01\n",
       "7 PC4         -2.24165043 3.202008868  -0.7000763  4.838797e-01\n",
       "8 PC5          2.10360429 3.215901050   0.6541259  5.130307e-01"
      ]
     },
     "metadata": {},
     "output_type": "display_data"
    },
    {
     "data": {
      "text/html": [
       "<table>\n",
       "<caption>A tibble: 11 × 5</caption>\n",
       "<thead>\n",
       "\t<tr><th scope=col>term</th><th scope=col>estimate</th><th scope=col>std.error</th><th scope=col>statistic</th><th scope=col>p.value</th></tr>\n",
       "\t<tr><th scope=col>&lt;chr&gt;</th><th scope=col>&lt;dbl&gt;</th><th scope=col>&lt;dbl&gt;</th><th scope=col>&lt;dbl&gt;</th><th scope=col>&lt;dbl&gt;</th></tr>\n",
       "</thead>\n",
       "<tbody>\n",
       "\t<tr><td>(Intercept)</td><td>-8.86255507</td><td>0.339875386</td><td>-26.0758956</td><td>6.843714e-150</td></tr>\n",
       "\t<tr><td>sexMale    </td><td> 0.36814114</td><td>0.073554076</td><td>  5.0050406</td><td> 5.585024e-07</td></tr>\n",
       "\t<tr><td>bmi        </td><td> 0.04185095</td><td>0.006891887</td><td>  6.0724957</td><td> 1.259374e-09</td></tr>\n",
       "\t<tr><td>t2d        </td><td> 0.55895728</td><td>0.118945464</td><td>  4.6992736</td><td> 2.610885e-06</td></tr>\n",
       "\t<tr><td>mdi        </td><td> 0.02086707</td><td>0.002153681</td><td>  9.6890283</td><td> 3.357072e-22</td></tr>\n",
       "\t<tr><td>age        </td><td> 0.01657726</td><td>0.004667399</td><td>  3.5517115</td><td> 3.827343e-04</td></tr>\n",
       "\t<tr><td>PC1        </td><td>-1.56909160</td><td>1.527389148</td><td> -1.0273031</td><td> 3.042778e-01</td></tr>\n",
       "\t<tr><td>PC2        </td><td> 0.81026324</td><td>2.298338794</td><td>  0.3525430</td><td> 7.244311e-01</td></tr>\n",
       "\t<tr><td>PC3        </td><td>-3.52743255</td><td>2.966570110</td><td> -1.1890609</td><td> 2.344157e-01</td></tr>\n",
       "\t<tr><td>PC4        </td><td>-1.86267594</td><td>3.205263801</td><td> -0.5811303</td><td> 5.611526e-01</td></tr>\n",
       "\t<tr><td>PC5        </td><td> 1.87135045</td><td>3.222215361</td><td>  0.5807652</td><td> 5.613987e-01</td></tr>\n",
       "</tbody>\n",
       "</table>\n"
      ],
      "text/latex": [
       "A tibble: 11 × 5\n",
       "\\begin{tabular}{lllll}\n",
       " term & estimate & std.error & statistic & p.value\\\\\n",
       " <chr> & <dbl> & <dbl> & <dbl> & <dbl>\\\\\n",
       "\\hline\n",
       "\t (Intercept) & -8.86255507 & 0.339875386 & -26.0758956 & 6.843714e-150\\\\\n",
       "\t sexMale     &  0.36814114 & 0.073554076 &   5.0050406 &  5.585024e-07\\\\\n",
       "\t bmi         &  0.04185095 & 0.006891887 &   6.0724957 &  1.259374e-09\\\\\n",
       "\t t2d         &  0.55895728 & 0.118945464 &   4.6992736 &  2.610885e-06\\\\\n",
       "\t mdi         &  0.02086707 & 0.002153681 &   9.6890283 &  3.357072e-22\\\\\n",
       "\t age         &  0.01657726 & 0.004667399 &   3.5517115 &  3.827343e-04\\\\\n",
       "\t PC1         & -1.56909160 & 1.527389148 &  -1.0273031 &  3.042778e-01\\\\\n",
       "\t PC2         &  0.81026324 & 2.298338794 &   0.3525430 &  7.244311e-01\\\\\n",
       "\t PC3         & -3.52743255 & 2.966570110 &  -1.1890609 &  2.344157e-01\\\\\n",
       "\t PC4         & -1.86267594 & 3.205263801 &  -0.5811303 &  5.611526e-01\\\\\n",
       "\t PC5         &  1.87135045 & 3.222215361 &   0.5807652 &  5.613987e-01\\\\\n",
       "\\end{tabular}\n"
      ],
      "text/markdown": [
       "\n",
       "A tibble: 11 × 5\n",
       "\n",
       "| term &lt;chr&gt; | estimate &lt;dbl&gt; | std.error &lt;dbl&gt; | statistic &lt;dbl&gt; | p.value &lt;dbl&gt; |\n",
       "|---|---|---|---|---|\n",
       "| (Intercept) | -8.86255507 | 0.339875386 | -26.0758956 | 6.843714e-150 |\n",
       "| sexMale     |  0.36814114 | 0.073554076 |   5.0050406 |  5.585024e-07 |\n",
       "| bmi         |  0.04185095 | 0.006891887 |   6.0724957 |  1.259374e-09 |\n",
       "| t2d         |  0.55895728 | 0.118945464 |   4.6992736 |  2.610885e-06 |\n",
       "| mdi         |  0.02086707 | 0.002153681 |   9.6890283 |  3.357072e-22 |\n",
       "| age         |  0.01657726 | 0.004667399 |   3.5517115 |  3.827343e-04 |\n",
       "| PC1         | -1.56909160 | 1.527389148 |  -1.0273031 |  3.042778e-01 |\n",
       "| PC2         |  0.81026324 | 2.298338794 |   0.3525430 |  7.244311e-01 |\n",
       "| PC3         | -3.52743255 | 2.966570110 |  -1.1890609 |  2.344157e-01 |\n",
       "| PC4         | -1.86267594 | 3.205263801 |  -0.5811303 |  5.611526e-01 |\n",
       "| PC5         |  1.87135045 | 3.222215361 |   0.5807652 |  5.613987e-01 |\n",
       "\n"
      ],
      "text/plain": [
       "   term        estimate    std.error   statistic   p.value      \n",
       "1  (Intercept) -8.86255507 0.339875386 -26.0758956 6.843714e-150\n",
       "2  sexMale      0.36814114 0.073554076   5.0050406  5.585024e-07\n",
       "3  bmi          0.04185095 0.006891887   6.0724957  1.259374e-09\n",
       "4  t2d          0.55895728 0.118945464   4.6992736  2.610885e-06\n",
       "5  mdi          0.02086707 0.002153681   9.6890283  3.357072e-22\n",
       "6  age          0.01657726 0.004667399   3.5517115  3.827343e-04\n",
       "7  PC1         -1.56909160 1.527389148  -1.0273031  3.042778e-01\n",
       "8  PC2          0.81026324 2.298338794   0.3525430  7.244311e-01\n",
       "9  PC3         -3.52743255 2.966570110  -1.1890609  2.344157e-01\n",
       "10 PC4         -1.86267594 3.205263801  -0.5811303  5.611526e-01\n",
       "11 PC5          1.87135045 3.222215361   0.5807652  5.613987e-01"
      ]
     },
     "metadata": {},
     "output_type": "display_data"
    }
   ],
   "source": [
    "library(broom)\n",
    "lm_covs <- c(\"age\", paste0(\"PC\", 1:5))\n",
    "\n",
    "sex_lm_str <- paste0(\"case_b2 ~ sexMale + \", paste(lm_covs, collapse=\" + \"))\n",
    "sex_lm <- glm(as.formula(sex_lm_str), data=final_pheno_df, family=\"binomial\")\n",
    "tidy(sex_lm)\n",
    "\n",
    "cm_lm_str <- paste0(\"case_b2 ~ bmi + t2d + \", paste(lm_covs, collapse=\" + \"))\n",
    "cm_lm <- glm(as.formula(cm_lm_str), data=final_pheno_df, family=\"binomial\")\n",
    "tidy(cm_lm)\n",
    "\n",
    "sdh_lm_str <- paste0(\"case_b2 ~ mdi + \", paste(lm_covs, collapse=\" + \"))\n",
    "sdh_lm <- glm(as.formula(sdh_lm_str), data=final_pheno_df, family=\"binomial\")\n",
    "tidy(sdh_lm)\n",
    "\n",
    "full_lm_str <- paste0(\"case_b2 ~ sexMale + bmi + t2d + mdi + \", paste(lm_covs, collapse=\" + \"))\n",
    "full_lm <- glm(as.formula(full_lm_str), data=final_pheno_df, family=\"binomial\")\n",
    "tidy(full_lm)"
   ]
  }
 ],
 "metadata": {
  "kernelspec": {
   "display_name": "R",
   "language": "R",
   "name": "ir"
  },
  "language_info": {
   "codemirror_mode": "r",
   "file_extension": ".r",
   "mimetype": "text/x-r-source",
   "name": "R",
   "pygments_lexer": "r",
   "version": "4.0.3"
  },
  "toc": {
   "base_numbering": 1,
   "nav_menu": {},
   "number_sections": true,
   "sideBar": true,
   "skip_h1_title": false,
   "title_cell": "Table of Contents",
   "title_sidebar": "Contents",
   "toc_cell": false,
   "toc_position": {},
   "toc_section_display": true,
   "toc_window_display": false
  }
 },
 "nbformat": 4,
 "nbformat_minor": 4
}
